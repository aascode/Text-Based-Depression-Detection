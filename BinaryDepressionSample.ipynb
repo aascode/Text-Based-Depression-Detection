{
 "cells": [
  {
   "cell_type": "markdown",
   "metadata": {},
   "source": [
    "## Rough Draft: Text-Based Depression Detection Using a Subset of Partially Cleaned Data"
   ]
  },
  {
   "cell_type": "code",
   "execution_count": 2,
   "metadata": {},
   "outputs": [],
   "source": [
    "import pandas as pd\n",
    "import numpy as np\n",
    "import matplotlib.pyplot as plt\n",
    "plt.style.use('ggplot')\n",
    "import seaborn as sns\n",
    "\n",
    "from vaderSentiment.vaderSentiment import SentimentIntensityAnalyzer\n",
    "\n",
    "import spacy\n",
    "from sklearn.pipeline import make_pipeline\n",
    "from sklearn.model_selection import train_test_split\n",
    "\n",
    "from nltk.tokenize import RegexpTokenizer, word_tokenize\n",
    "import re\n",
    "\n",
    "import tensorflow as tf\n",
    "from tensorflow.keras.models import Sequential, load_model\n",
    "from tensorflow.keras.layers import Dense, Dropout, GRU, Input, Flatten, LSTM, Conv1D, MaxPooling1D, GlobalMaxPooling1D, Input, Embedding, Bidirectional\n",
    "from tensorflow.keras.preprocessing.sequence import pad_sequences\n",
    "from tensorflow.keras.wrappers.scikit_learn import KerasClassifier, KerasRegressor\n",
    "from tensorflow.keras.callbacks import EarlyStopping\n",
    "from tensorflow.keras.regularizers import l2"
   ]
  },
  {
   "cell_type": "code",
   "execution_count": 2,
   "metadata": {},
   "outputs": [],
   "source": [
    "depression = pd.read_csv('../data/depression_30k.csv')\n",
    "anxiety = pd.read_csv('../data/anxiety_20k.csv')\n",
    "basetext = pd.read_csv('../data/basetext.csv')"
   ]
  },
  {
   "cell_type": "code",
   "execution_count": 3,
   "metadata": {},
   "outputs": [],
   "source": [
    "depression.drop(columns='Unnamed: 0',inplace=True)\n",
    "anxiety.drop(columns='Unnamed: 0',inplace=True)\n",
    "basetext.drop(columns='Unnamed: 0',inplace=True)"
   ]
  },
  {
   "cell_type": "code",
   "execution_count": 4,
   "metadata": {},
   "outputs": [],
   "source": [
    "dep = depression.sample(2000)\n",
    "bas = basetext.sample(1000)\n",
    "anx = anxiety.sample(1000)"
   ]
  },
  {
   "cell_type": "code",
   "execution_count": 5,
   "metadata": {},
   "outputs": [],
   "source": [
    "sample_df = pd.concat([dep,bas])"
   ]
  },
  {
   "cell_type": "code",
   "execution_count": 6,
   "metadata": {},
   "outputs": [],
   "source": [
    "analyzer = SentimentIntensityAnalyzer()"
   ]
  },
  {
   "cell_type": "code",
   "execution_count": 7,
   "metadata": {},
   "outputs": [],
   "source": [
    "def sentiment(row):\n",
    "    analyzer = SentimentIntensityAnalyzer()\n",
    "    res = analyzer.polarity_scores(row)\n",
    "    return pd.Series([res['neg'], res['neu'], res['pos'], res['compound']])"
   ]
  },
  {
   "cell_type": "code",
   "execution_count": 8,
   "metadata": {},
   "outputs": [],
   "source": [
    "sample_df.replace('[removed]',' ',inplace=True)\n",
    "sample_df.replace('[deleted]',' ',inplace=True)"
   ]
  },
  {
   "cell_type": "code",
   "execution_count": 9,
   "metadata": {},
   "outputs": [],
   "source": [
    "sample_df.fillna(' ',inplace=True)"
   ]
  },
  {
   "cell_type": "code",
   "execution_count": 10,
   "metadata": {},
   "outputs": [],
   "source": [
    "sample_df['full_text'] = sample_df['title'] + \" \" + sample_df['selftext']\n",
    "sample_df['full_text'] = sample_df['full_text'].astype(str)\n",
    "sample_df['full_text'] = sample_df['full_text'].map(lambda x:x.lower())"
   ]
  },
  {
   "cell_type": "code",
   "execution_count": 11,
   "metadata": {},
   "outputs": [],
   "source": [
    "sample_df['subreddit'] = sample_df['subreddit'].map({'happy':0,'CasualConversation':0, 'depression':1})"
   ]
  },
  {
   "cell_type": "code",
   "execution_count": 12,
   "metadata": {},
   "outputs": [],
   "source": [
    "sample_df[['neg','neu','pos','comp']] = sample_df['full_text'].apply(sentiment)"
   ]
  },
  {
   "cell_type": "code",
   "execution_count": 13,
   "metadata": {},
   "outputs": [
    {
     "data": {
      "text/html": [
       "<div>\n",
       "<style scoped>\n",
       "    .dataframe tbody tr th:only-of-type {\n",
       "        vertical-align: middle;\n",
       "    }\n",
       "\n",
       "    .dataframe tbody tr th {\n",
       "        vertical-align: top;\n",
       "    }\n",
       "\n",
       "    .dataframe thead th {\n",
       "        text-align: right;\n",
       "    }\n",
       "</style>\n",
       "<table border=\"1\" class=\"dataframe\">\n",
       "  <thead>\n",
       "    <tr style=\"text-align: right;\">\n",
       "      <th></th>\n",
       "      <th>title</th>\n",
       "      <th>author</th>\n",
       "      <th>selftext</th>\n",
       "      <th>created_utc</th>\n",
       "      <th>subreddit</th>\n",
       "      <th>full_text</th>\n",
       "      <th>neg</th>\n",
       "      <th>neu</th>\n",
       "      <th>pos</th>\n",
       "      <th>comp</th>\n",
       "    </tr>\n",
       "  </thead>\n",
       "  <tbody>\n",
       "    <tr>\n",
       "      <th>7977</th>\n",
       "      <td>I just wanna cry</td>\n",
       "      <td>William20022</td>\n",
       "      <td>Whys it so hard, why cant I just cry why I can...</td>\n",
       "      <td>1601632736</td>\n",
       "      <td>1</td>\n",
       "      <td>i just wanna cry whys it so hard, why cant i j...</td>\n",
       "      <td>0.166</td>\n",
       "      <td>0.764</td>\n",
       "      <td>0.070</td>\n",
       "      <td>-0.7748</td>\n",
       "    </tr>\n",
       "    <tr>\n",
       "      <th>26325</th>\n",
       "      <td>1pm slump</td>\n",
       "      <td>FlippantRaccoon</td>\n",
       "      <td>I’m finding lately that I’ll be fine until abo...</td>\n",
       "      <td>1598999736</td>\n",
       "      <td>1</td>\n",
       "      <td>1pm slump i’m finding lately that i’ll be fine...</td>\n",
       "      <td>0.044</td>\n",
       "      <td>0.863</td>\n",
       "      <td>0.093</td>\n",
       "      <td>0.7657</td>\n",
       "    </tr>\n",
       "    <tr>\n",
       "      <th>14168</th>\n",
       "      <td>I was doing so good.....</td>\n",
       "      <td>SubArticFawn</td>\n",
       "      <td>I was doing good today. I cleaned a lot. Did l...</td>\n",
       "      <td>1600716852</td>\n",
       "      <td>1</td>\n",
       "      <td>i was doing so good..... i was doing good toda...</td>\n",
       "      <td>0.033</td>\n",
       "      <td>0.830</td>\n",
       "      <td>0.137</td>\n",
       "      <td>0.9330</td>\n",
       "    </tr>\n",
       "    <tr>\n",
       "      <th>15658</th>\n",
       "      <td>I can’t fucking take it anymore</td>\n",
       "      <td>Roof-Witty</td>\n",
       "      <td>Im here mostly to vent so sorry if whatever I ...</td>\n",
       "      <td>1600512406</td>\n",
       "      <td>1</td>\n",
       "      <td>i can’t fucking take it anymore im here mostly...</td>\n",
       "      <td>0.145</td>\n",
       "      <td>0.702</td>\n",
       "      <td>0.152</td>\n",
       "      <td>0.0061</td>\n",
       "    </tr>\n",
       "    <tr>\n",
       "      <th>9133</th>\n",
       "      <td>I just want to kill myself after unsuccessful ...</td>\n",
       "      <td>vvredditor78</td>\n",
       "      <td>Hi All, I want to kill myself. I did rhinoplas...</td>\n",
       "      <td>1601466226</td>\n",
       "      <td>1</td>\n",
       "      <td>i just want to kill myself after unsuccessful ...</td>\n",
       "      <td>0.298</td>\n",
       "      <td>0.665</td>\n",
       "      <td>0.038</td>\n",
       "      <td>-0.9638</td>\n",
       "    </tr>\n",
       "  </tbody>\n",
       "</table>\n",
       "</div>"
      ],
      "text/plain": [
       "                                                   title           author  \\\n",
       "7977                                    I just wanna cry     William20022   \n",
       "26325                                          1pm slump  FlippantRaccoon   \n",
       "14168                           I was doing so good.....     SubArticFawn   \n",
       "15658                    I can’t fucking take it anymore       Roof-Witty   \n",
       "9133   I just want to kill myself after unsuccessful ...     vvredditor78   \n",
       "\n",
       "                                                selftext  created_utc  \\\n",
       "7977   Whys it so hard, why cant I just cry why I can...   1601632736   \n",
       "26325  I’m finding lately that I’ll be fine until abo...   1598999736   \n",
       "14168  I was doing good today. I cleaned a lot. Did l...   1600716852   \n",
       "15658  Im here mostly to vent so sorry if whatever I ...   1600512406   \n",
       "9133   Hi All, I want to kill myself. I did rhinoplas...   1601466226   \n",
       "\n",
       "       subreddit                                          full_text    neg  \\\n",
       "7977           1  i just wanna cry whys it so hard, why cant i j...  0.166   \n",
       "26325          1  1pm slump i’m finding lately that i’ll be fine...  0.044   \n",
       "14168          1  i was doing so good..... i was doing good toda...  0.033   \n",
       "15658          1  i can’t fucking take it anymore im here mostly...  0.145   \n",
       "9133           1  i just want to kill myself after unsuccessful ...  0.298   \n",
       "\n",
       "         neu    pos    comp  \n",
       "7977   0.764  0.070 -0.7748  \n",
       "26325  0.863  0.093  0.7657  \n",
       "14168  0.830  0.137  0.9330  \n",
       "15658  0.702  0.152  0.0061  \n",
       "9133   0.665  0.038 -0.9638  "
      ]
     },
     "execution_count": 13,
     "metadata": {},
     "output_type": "execute_result"
    }
   ],
   "source": [
    "sample_df.head()"
   ]
  },
  {
   "cell_type": "markdown",
   "metadata": {},
   "source": [
    "### Basic LSTM with Embedding Layer\n"
   ]
  },
  {
   "cell_type": "code",
   "execution_count": 14,
   "metadata": {},
   "outputs": [],
   "source": [
    "from tensorflow.keras.preprocessing.text import Tokenizer\n",
    "from tensorflow.keras.preprocessing.sequence import pad_sequences"
   ]
  },
  {
   "cell_type": "code",
   "execution_count": 15,
   "metadata": {},
   "outputs": [],
   "source": [
    "text_labels = sample_df[['full_text','subreddit']]"
   ]
  },
  {
   "cell_type": "code",
   "execution_count": 16,
   "metadata": {},
   "outputs": [
    {
     "data": {
      "text/html": [
       "<div>\n",
       "<style scoped>\n",
       "    .dataframe tbody tr th:only-of-type {\n",
       "        vertical-align: middle;\n",
       "    }\n",
       "\n",
       "    .dataframe tbody tr th {\n",
       "        vertical-align: top;\n",
       "    }\n",
       "\n",
       "    .dataframe thead th {\n",
       "        text-align: right;\n",
       "    }\n",
       "</style>\n",
       "<table border=\"1\" class=\"dataframe\">\n",
       "  <thead>\n",
       "    <tr style=\"text-align: right;\">\n",
       "      <th></th>\n",
       "      <th>full_text</th>\n",
       "      <th>subreddit</th>\n",
       "    </tr>\n",
       "  </thead>\n",
       "  <tbody>\n",
       "    <tr>\n",
       "      <th>7977</th>\n",
       "      <td>i just wanna cry whys it so hard, why cant i j...</td>\n",
       "      <td>1</td>\n",
       "    </tr>\n",
       "    <tr>\n",
       "      <th>26325</th>\n",
       "      <td>1pm slump i’m finding lately that i’ll be fine...</td>\n",
       "      <td>1</td>\n",
       "    </tr>\n",
       "    <tr>\n",
       "      <th>14168</th>\n",
       "      <td>i was doing so good..... i was doing good toda...</td>\n",
       "      <td>1</td>\n",
       "    </tr>\n",
       "    <tr>\n",
       "      <th>15658</th>\n",
       "      <td>i can’t fucking take it anymore im here mostly...</td>\n",
       "      <td>1</td>\n",
       "    </tr>\n",
       "    <tr>\n",
       "      <th>9133</th>\n",
       "      <td>i just want to kill myself after unsuccessful ...</td>\n",
       "      <td>1</td>\n",
       "    </tr>\n",
       "  </tbody>\n",
       "</table>\n",
       "</div>"
      ],
      "text/plain": [
       "                                               full_text  subreddit\n",
       "7977   i just wanna cry whys it so hard, why cant i j...          1\n",
       "26325  1pm slump i’m finding lately that i’ll be fine...          1\n",
       "14168  i was doing so good..... i was doing good toda...          1\n",
       "15658  i can’t fucking take it anymore im here mostly...          1\n",
       "9133   i just want to kill myself after unsuccessful ...          1"
      ]
     },
     "execution_count": 16,
     "metadata": {},
     "output_type": "execute_result"
    }
   ],
   "source": [
    "text_labels.head()"
   ]
  },
  {
   "cell_type": "code",
   "execution_count": 17,
   "metadata": {},
   "outputs": [],
   "source": [
    "text_labels = text_labels.sample(frac=1)"
   ]
  },
  {
   "cell_type": "code",
   "execution_count": 18,
   "metadata": {},
   "outputs": [],
   "source": [
    "X = text_labels['full_text'].fillna('')\n",
    "y = text_labels['subreddit']"
   ]
  },
  {
   "cell_type": "code",
   "execution_count": null,
   "metadata": {},
   "outputs": [],
   "source": []
  },
  {
   "cell_type": "code",
   "execution_count": 19,
   "metadata": {},
   "outputs": [],
   "source": [
    "#parameters for tokenization\n",
    "max_len = 100\n",
    "training_samples = 2500\n",
    "validation_samples = 500\n",
    "max_words = 10_000"
   ]
  },
  {
   "cell_type": "code",
   "execution_count": 20,
   "metadata": {},
   "outputs": [],
   "source": [
    "#instantiate the tokenizer\n",
    "tokenizer = Tokenizer(num_words=max_words)"
   ]
  },
  {
   "cell_type": "code",
   "execution_count": 21,
   "metadata": {},
   "outputs": [],
   "source": [
    "#fit the tokenizer\n",
    "tokenizer.fit_on_texts(X)"
   ]
  },
  {
   "cell_type": "code",
   "execution_count": 22,
   "metadata": {},
   "outputs": [],
   "source": [
    "#create the sequences\n",
    "sequences = tokenizer.texts_to_sequences(X)"
   ]
  },
  {
   "cell_type": "code",
   "execution_count": 23,
   "metadata": {},
   "outputs": [],
   "source": [
    "#pad sequences\n",
    "data = pad_sequences(sequences, maxlen=max_len)"
   ]
  },
  {
   "cell_type": "code",
   "execution_count": 24,
   "metadata": {},
   "outputs": [],
   "source": [
    "#create train/test sets\n",
    "X_train = data[:training_samples]\n",
    "X_test = data[training_samples:training_samples + validation_samples]\n",
    "\n",
    "y_train = y[:training_samples]\n",
    "y_test = y[training_samples: training_samples + validation_samples]"
   ]
  },
  {
   "cell_type": "code",
   "execution_count": 25,
   "metadata": {},
   "outputs": [
    {
     "data": {
      "text/plain": [
       "(2500, 100)"
      ]
     },
     "execution_count": 25,
     "metadata": {},
     "output_type": "execute_result"
    }
   ],
   "source": [
    "X_train.shape"
   ]
  },
  {
   "cell_type": "code",
   "execution_count": 26,
   "metadata": {},
   "outputs": [
    {
     "data": {
      "text/plain": [
       "(500, 100)"
      ]
     },
     "execution_count": 26,
     "metadata": {},
     "output_type": "execute_result"
    }
   ],
   "source": [
    "X_test.shape"
   ]
  },
  {
   "cell_type": "code",
   "execution_count": 27,
   "metadata": {},
   "outputs": [
    {
     "data": {
      "text/plain": [
       "(2500,)"
      ]
     },
     "execution_count": 27,
     "metadata": {},
     "output_type": "execute_result"
    }
   ],
   "source": [
    "y_train.shape"
   ]
  },
  {
   "cell_type": "code",
   "execution_count": 28,
   "metadata": {},
   "outputs": [],
   "source": [
    "X_train_reshape = X_train.reshape(2500,-1,100)\n",
    "X_test_reshape = X_test.reshape(500,-1,100)"
   ]
  },
  {
   "cell_type": "code",
   "execution_count": 29,
   "metadata": {},
   "outputs": [],
   "source": [
    "X_train_reshape = X_train_reshape.astype(np.int32)\n",
    "X_test_reshape = X_test_reshape.astype(np.int32)"
   ]
  },
  {
   "cell_type": "code",
   "execution_count": 30,
   "metadata": {},
   "outputs": [],
   "source": [
    "y_train = y_train.astype(np.int32)\n",
    "y_test = y_test.astype(np.int32)"
   ]
  },
  {
   "cell_type": "code",
   "execution_count": 31,
   "metadata": {},
   "outputs": [
    {
     "data": {
      "text/plain": [
       "(2500, 1, 100)"
      ]
     },
     "execution_count": 31,
     "metadata": {},
     "output_type": "execute_result"
    }
   ],
   "source": [
    "X_train_reshape.shape"
   ]
  },
  {
   "cell_type": "code",
   "execution_count": 32,
   "metadata": {},
   "outputs": [
    {
     "data": {
      "text/plain": [
       "(500, 1, 100)"
      ]
     },
     "execution_count": 32,
     "metadata": {},
     "output_type": "execute_result"
    }
   ],
   "source": [
    "X_test_reshape.shape"
   ]
  },
  {
   "cell_type": "code",
   "execution_count": 35,
   "metadata": {},
   "outputs": [],
   "source": [
    "model_k = Sequential()\n",
    "model_k.add(Embedding(10000, 32))\n",
    "model_k.add(LSTM(32))\n",
    "model_k.add(Dense(64,activation='relu',kernel_regularizer=l2(0.001)))\n",
    "model_k.add(Dropout(0.5))\n",
    "model_k.add(Dense(64,activation='relu',kernel_regularizer=l2(0.001)))\n",
    "model_k.add(Dropout(0.5))\n",
    "model_k.add(Dense(64,activation='relu',kernel_regularizer=l2(0.001)))\n",
    "model_k.add(Dropout(0.5))\n",
    "model_k.add(Dense(128,activation='relu',kernel_regularizer=l2(0.01)))\n",
    "model_k.add(Dropout(0.4))\n",
    "\n",
    "model_k.add(Dense(1,activation='sigmoid'))"
   ]
  },
  {
   "cell_type": "code",
   "execution_count": 36,
   "metadata": {},
   "outputs": [],
   "source": [
    "model_k.compile(optimizer='adam', metrics=['accuracy'], loss='binary_crossentropy')"
   ]
  },
  {
   "cell_type": "code",
   "execution_count": 37,
   "metadata": {},
   "outputs": [
    {
     "name": "stdout",
     "output_type": "stream",
     "text": [
      "Epoch 1/20\n",
      "79/79 [==============================] - 4s 46ms/step - loss: 1.2162 - accuracy: 0.6608 - val_loss: 0.8859 - val_accuracy: 0.6620\n",
      "Epoch 2/20\n",
      "79/79 [==============================] - 3s 37ms/step - loss: 0.7250 - accuracy: 0.6676 - val_loss: 0.5972 - val_accuracy: 0.6620\n",
      "Epoch 3/20\n",
      "79/79 [==============================] - 3s 40ms/step - loss: 0.5375 - accuracy: 0.7068 - val_loss: 0.5122 - val_accuracy: 0.8000\n",
      "Epoch 4/20\n",
      "79/79 [==============================] - 3s 38ms/step - loss: 0.4025 - accuracy: 0.8872 - val_loss: 0.5198 - val_accuracy: 0.8240\n",
      "Epoch 5/20\n",
      "79/79 [==============================] - 3s 38ms/step - loss: 0.2931 - accuracy: 0.9224 - val_loss: 0.5152 - val_accuracy: 0.8200\n",
      "Epoch 6/20\n",
      "79/79 [==============================] - 3s 38ms/step - loss: 0.2169 - accuracy: 0.9512 - val_loss: 0.5525 - val_accuracy: 0.8260\n",
      "Epoch 7/20\n",
      "79/79 [==============================] - 3s 39ms/step - loss: 0.1836 - accuracy: 0.9652 - val_loss: 0.5303 - val_accuracy: 0.8180\n",
      "Epoch 8/20\n",
      "79/79 [==============================] - 3s 42ms/step - loss: 0.1480 - accuracy: 0.9728 - val_loss: 0.7609 - val_accuracy: 0.8420\n",
      "Epoch 9/20\n",
      "79/79 [==============================] - 3s 41ms/step - loss: 0.1209 - accuracy: 0.9856 - val_loss: 0.8493 - val_accuracy: 0.7940\n",
      "Epoch 10/20\n",
      "79/79 [==============================] - 3s 38ms/step - loss: 0.1319 - accuracy: 0.9780 - val_loss: 0.8370 - val_accuracy: 0.7760\n",
      "Epoch 11/20\n",
      "79/79 [==============================] - 3s 38ms/step - loss: 0.1208 - accuracy: 0.9816 - val_loss: 0.6976 - val_accuracy: 0.7960\n",
      "Epoch 12/20\n",
      "79/79 [==============================] - 3s 38ms/step - loss: 0.0959 - accuracy: 0.9896 - val_loss: 0.6675 - val_accuracy: 0.8140\n",
      "Epoch 13/20\n",
      "79/79 [==============================] - 3s 40ms/step - loss: 0.0777 - accuracy: 0.9964 - val_loss: 0.9615 - val_accuracy: 0.8260\n",
      "Epoch 14/20\n",
      "79/79 [==============================] - 3s 39ms/step - loss: 0.0753 - accuracy: 0.9940 - val_loss: 0.9910 - val_accuracy: 0.8220\n",
      "Epoch 15/20\n",
      "79/79 [==============================] - 3s 39ms/step - loss: 0.0703 - accuracy: 0.9940 - val_loss: 0.9420 - val_accuracy: 0.8260\n",
      "Epoch 16/20\n",
      "79/79 [==============================] - 3s 38ms/step - loss: 0.0656 - accuracy: 0.9968 - val_loss: 1.1165 - val_accuracy: 0.8260\n",
      "Epoch 17/20\n",
      "79/79 [==============================] - 3s 38ms/step - loss: 0.0597 - accuracy: 0.9976 - val_loss: 1.0745 - val_accuracy: 0.8280\n",
      "Epoch 18/20\n",
      "79/79 [==============================] - 3s 41ms/step - loss: 0.0554 - accuracy: 0.9980 - val_loss: 1.1438 - val_accuracy: 0.8120\n",
      "Epoch 19/20\n",
      "79/79 [==============================] - 3s 41ms/step - loss: 0.0761 - accuracy: 0.9896 - val_loss: 1.1550 - val_accuracy: 0.8280\n",
      "Epoch 20/20\n",
      "79/79 [==============================] - 3s 39ms/step - loss: 0.0690 - accuracy: 0.9936 - val_loss: 0.7967 - val_accuracy: 0.8200\n"
     ]
    }
   ],
   "source": [
    "history = model_k.fit(X_train, y_train, validation_data=(X_test,y_test), epochs=20)"
   ]
  },
  {
   "cell_type": "code",
   "execution_count": 38,
   "metadata": {},
   "outputs": [
    {
     "data": {
      "text/plain": [
       "0.8011000007390976"
      ]
     },
     "execution_count": 38,
     "metadata": {},
     "output_type": "execute_result"
    }
   ],
   "source": [
    "np.mean(history.history['val_accuracy'])"
   ]
  },
  {
   "cell_type": "markdown",
   "metadata": {},
   "source": [
    "### BERT to BiLSTM Small Sample"
   ]
  },
  {
   "cell_type": "code",
   "execution_count": 39,
   "metadata": {},
   "outputs": [],
   "source": [
    "binary_sample = text_labels.sample(200,random_state=42)"
   ]
  },
  {
   "cell_type": "code",
   "execution_count": 40,
   "metadata": {},
   "outputs": [],
   "source": [
    "X = binary_sample['full_text']\n",
    "y = binary_sample['subreddit']"
   ]
  },
  {
   "cell_type": "code",
   "execution_count": 41,
   "metadata": {},
   "outputs": [],
   "source": [
    "X_train, X_test, y_train, y_test = train_test_split(X,y)"
   ]
  },
  {
   "cell_type": "code",
   "execution_count": 42,
   "metadata": {},
   "outputs": [],
   "source": [
    "import numpy as np\n",
    "import spacy\n",
    "from sklearn.base import BaseEstimator, TransformerMixin\n",
    "\n",
    "class WordVectorTransformer(TransformerMixin,BaseEstimator):\n",
    "    def __init__(self, model=\"en_trf_distilbertbaseuncased_lg\"):    #put bert embeddings here\n",
    "        self.model = model\n",
    "    def fit(self,X,y=None):\n",
    "        return self\n",
    "    def transform(self,X):\n",
    "        nlp = spacy.load(self.model)\n",
    "        return np.concatenate([nlp(doc).vector.reshape(1,-1) for doc in X])"
   ]
  },
  {
   "cell_type": "code",
   "execution_count": 43,
   "metadata": {},
   "outputs": [],
   "source": [
    "bertvect = WordVectorTransformer()"
   ]
  },
  {
   "cell_type": "code",
   "execution_count": 44,
   "metadata": {},
   "outputs": [],
   "source": [
    "X_train_bvect = bertvect.fit_transform(X_train)\n",
    "X_test_bvect = bertvect.transform(X_test)"
   ]
  },
  {
   "cell_type": "code",
   "execution_count": 45,
   "metadata": {},
   "outputs": [],
   "source": [
    "y_train_vect = tf.keras.utils.to_categorical(y_train)\n",
    "y_test_vect = tf.keras.utils.to_categorical(y_test)"
   ]
  },
  {
   "cell_type": "code",
   "execution_count": 46,
   "metadata": {},
   "outputs": [
    {
     "data": {
      "text/plain": [
       "(150, 768)"
      ]
     },
     "execution_count": 46,
     "metadata": {},
     "output_type": "execute_result"
    }
   ],
   "source": [
    "X_train_bvect.shape"
   ]
  },
  {
   "cell_type": "code",
   "execution_count": 47,
   "metadata": {},
   "outputs": [
    {
     "data": {
      "text/plain": [
       "(50, 768)"
      ]
     },
     "execution_count": 47,
     "metadata": {},
     "output_type": "execute_result"
    }
   ],
   "source": [
    "X_test_bvect.shape"
   ]
  },
  {
   "cell_type": "code",
   "execution_count": 48,
   "metadata": {},
   "outputs": [],
   "source": [
    "X_train_reshape = X_train_bvect.reshape(-1,768,1)\n",
    "X_test_reshape = X_test_bvect.reshape(-1,768,1)"
   ]
  },
  {
   "cell_type": "code",
   "execution_count": 56,
   "metadata": {},
   "outputs": [],
   "source": [
    "# save numpy array as npy file\n",
    "from numpy import asarray\n",
    "from numpy import save\n",
    "from numpy import load"
   ]
  },
  {
   "cell_type": "code",
   "execution_count": 49,
   "metadata": {},
   "outputs": [
    {
     "data": {
      "text/plain": [
       "(150, 768, 1)"
      ]
     },
     "execution_count": 49,
     "metadata": {},
     "output_type": "execute_result"
    }
   ],
   "source": [
    "X_train_reshape.shape"
   ]
  },
  {
   "cell_type": "code",
   "execution_count": 50,
   "metadata": {},
   "outputs": [
    {
     "data": {
      "text/plain": [
       "(50, 768, 1)"
      ]
     },
     "execution_count": 50,
     "metadata": {},
     "output_type": "execute_result"
    }
   ],
   "source": [
    "X_test_reshape.shape"
   ]
  },
  {
   "cell_type": "code",
   "execution_count": 51,
   "metadata": {},
   "outputs": [],
   "source": [
    "model_l = Sequential()\n",
    "\n",
    "model_l.add(Conv1D(32, 7, activation = 'relu'))\n",
    "model_l.add(MaxPooling1D())\n",
    "model_l.add(Bidirectional(LSTM(24)))\n",
    "model_l.add(Dense(64,activation='relu',kernel_regularizer=l2(0.001)))\n",
    "model_l.add(Dropout(0.5))\n",
    "model_l.add(Dense(64,activation='relu',kernel_regularizer=l2(0.001)))\n",
    "model_l.add(Dropout(0.5))\n",
    "model_l.add(Dense(1,activation='sigmoid'))"
   ]
  },
  {
   "cell_type": "code",
   "execution_count": 52,
   "metadata": {},
   "outputs": [],
   "source": [
    "model_l.compile(optimizer='nadam', metrics=['accuracy'], loss='binary_crossentropy')"
   ]
  },
  {
   "cell_type": "code",
   "execution_count": 53,
   "metadata": {
    "collapsed": true,
    "jupyter": {
     "outputs_hidden": true
    }
   },
   "outputs": [
    {
     "name": "stdout",
     "output_type": "stream",
     "text": [
      "Epoch 1/20\n",
      "5/5 [==============================] - 2s 343ms/step - loss: 0.8729 - accuracy: 0.4533 - val_loss: 0.7838 - val_accuracy: 0.7600\n",
      "Epoch 2/20\n",
      "5/5 [==============================] - 1s 136ms/step - loss: 0.7966 - accuracy: 0.6000 - val_loss: 0.7335 - val_accuracy: 0.7000\n",
      "Epoch 3/20\n",
      "5/5 [==============================] - 1s 135ms/step - loss: 0.7615 - accuracy: 0.6333 - val_loss: 0.7107 - val_accuracy: 0.6800\n",
      "Epoch 4/20\n",
      "5/5 [==============================] - 1s 158ms/step - loss: 0.7381 - accuracy: 0.6267 - val_loss: 0.6936 - val_accuracy: 0.6800\n",
      "Epoch 5/20\n",
      "5/5 [==============================] - 1s 151ms/step - loss: 0.7373 - accuracy: 0.6067 - val_loss: 0.6816 - val_accuracy: 0.6800\n",
      "Epoch 6/20\n",
      "5/5 [==============================] - 1s 143ms/step - loss: 0.7101 - accuracy: 0.6867 - val_loss: 0.6705 - val_accuracy: 0.6800\n",
      "Epoch 7/20\n",
      "5/5 [==============================] - 1s 142ms/step - loss: 0.6596 - accuracy: 0.6867 - val_loss: 0.6583 - val_accuracy: 0.6800\n",
      "Epoch 8/20\n",
      "5/5 [==============================] - 1s 156ms/step - loss: 0.6811 - accuracy: 0.6733 - val_loss: 0.6513 - val_accuracy: 0.7000\n",
      "Epoch 9/20\n",
      "5/5 [==============================] - 1s 135ms/step - loss: 0.6526 - accuracy: 0.7000 - val_loss: 0.6472 - val_accuracy: 0.7000\n",
      "Epoch 10/20\n",
      "5/5 [==============================] - 1s 136ms/step - loss: 0.6410 - accuracy: 0.6933 - val_loss: 0.6351 - val_accuracy: 0.7200\n",
      "Epoch 11/20\n",
      "5/5 [==============================] - 1s 156ms/step - loss: 0.6414 - accuracy: 0.7133 - val_loss: 0.6277 - val_accuracy: 0.7200\n",
      "Epoch 12/20\n",
      "5/5 [==============================] - 1s 147ms/step - loss: 0.6084 - accuracy: 0.7200 - val_loss: 0.6296 - val_accuracy: 0.7200\n",
      "Epoch 13/20\n",
      "5/5 [==============================] - 1s 139ms/step - loss: 0.6077 - accuracy: 0.7533 - val_loss: 0.6317 - val_accuracy: 0.7000\n",
      "Epoch 14/20\n",
      "5/5 [==============================] - 1s 137ms/step - loss: 0.6027 - accuracy: 0.7667 - val_loss: 0.6208 - val_accuracy: 0.7400\n",
      "Epoch 15/20\n",
      "5/5 [==============================] - 1s 138ms/step - loss: 0.6087 - accuracy: 0.7533 - val_loss: 0.6094 - val_accuracy: 0.7600\n",
      "Epoch 16/20\n",
      "5/5 [==============================] - 1s 147ms/step - loss: 0.6003 - accuracy: 0.7733 - val_loss: 0.6110 - val_accuracy: 0.7400\n",
      "Epoch 17/20\n",
      "5/5 [==============================] - 1s 141ms/step - loss: 0.5441 - accuracy: 0.7933 - val_loss: 0.6156 - val_accuracy: 0.7200\n",
      "Epoch 18/20\n",
      "5/5 [==============================] - 1s 141ms/step - loss: 0.5321 - accuracy: 0.7933 - val_loss: 0.6082 - val_accuracy: 0.7200\n",
      "Epoch 19/20\n",
      "5/5 [==============================] - 1s 141ms/step - loss: 0.5707 - accuracy: 0.8067 - val_loss: 0.6037 - val_accuracy: 0.7600\n",
      "Epoch 20/20\n",
      "5/5 [==============================] - 1s 138ms/step - loss: 0.5459 - accuracy: 0.8067 - val_loss: 0.6144 - val_accuracy: 0.7200\n"
     ]
    }
   ],
   "source": [
    "history_l = model_l.fit(X_train_reshape, y_train, validation_data=(X_test_reshape,y_test), epochs=20)"
   ]
  },
  {
   "cell_type": "markdown",
   "metadata": {},
   "source": [
    "#### Testing Saving/Loading Array and Model"
   ]
  },
  {
   "cell_type": "code",
   "execution_count": 55,
   "metadata": {},
   "outputs": [],
   "source": [
    "save('X_test_reshape', X_test_reshape)"
   ]
  },
  {
   "cell_type": "code",
   "execution_count": 67,
   "metadata": {},
   "outputs": [],
   "source": [
    "reloaded_X_test = load('X_test_reshape.npy')"
   ]
  },
  {
   "cell_type": "code",
   "execution_count": 58,
   "metadata": {},
   "outputs": [
    {
     "name": "stdout",
     "output_type": "stream",
     "text": [
      "WARNING:tensorflow:From C:\\Users\\User\\anaconda3\\lib\\site-packages\\tensorflow\\python\\training\\tracking\\tracking.py:111: Model.state_updates (from tensorflow.python.keras.engine.training) is deprecated and will be removed in a future version.\n",
      "Instructions for updating:\n",
      "This property should not be used in TensorFlow 2.0, as updates are applied automatically.\n",
      "WARNING:tensorflow:From C:\\Users\\User\\anaconda3\\lib\\site-packages\\tensorflow\\python\\training\\tracking\\tracking.py:111: Layer.updates (from tensorflow.python.keras.engine.base_layer) is deprecated and will be removed in a future version.\n",
      "Instructions for updating:\n",
      "This property should not be used in TensorFlow 2.0, as updates are applied automatically.\n",
      "INFO:tensorflow:Assets written to: ./model_l.hd\\assets\n"
     ]
    }
   ],
   "source": [
    "model_l.save('./model_l.hd')"
   ]
  },
  {
   "cell_type": "code",
   "execution_count": 60,
   "metadata": {},
   "outputs": [],
   "source": [
    "reloaded_model = load_model('./model_l.hd')"
   ]
  },
  {
   "cell_type": "code",
   "execution_count": 61,
   "metadata": {},
   "outputs": [],
   "source": [
    "preds = model_l.predict(X_test_reshape)\n",
    "# Because of how tensorflow works, the predict method will now return predict probas. This means preds are all probabilities of being depressed\n",
    "#text!!"
   ]
  },
  {
   "cell_type": "code",
   "execution_count": 62,
   "metadata": {},
   "outputs": [],
   "source": [
    "reloaded_preds = reloaded_model.predict(X_test_reshape)"
   ]
  },
  {
   "cell_type": "code",
   "execution_count": 64,
   "metadata": {},
   "outputs": [
    {
     "data": {
      "text/plain": [
       "array([[0.9351281 ],\n",
       "       [0.90173125],\n",
       "       [0.9184442 ],\n",
       "       [0.9563515 ],\n",
       "       [0.9560249 ],\n",
       "       [0.8836709 ],\n",
       "       [0.8895943 ],\n",
       "       [0.82933843],\n",
       "       [0.94032633],\n",
       "       [0.93107325]], dtype=float32)"
      ]
     },
     "execution_count": 64,
     "metadata": {},
     "output_type": "execute_result"
    }
   ],
   "source": [
    "preds[:10]"
   ]
  },
  {
   "cell_type": "code",
   "execution_count": 65,
   "metadata": {},
   "outputs": [
    {
     "data": {
      "text/plain": [
       "array([[0.9351281 ],\n",
       "       [0.90173125],\n",
       "       [0.9184442 ],\n",
       "       [0.9563515 ],\n",
       "       [0.9560249 ],\n",
       "       [0.8836709 ],\n",
       "       [0.8895943 ],\n",
       "       [0.82933843],\n",
       "       [0.94032633],\n",
       "       [0.93107325]], dtype=float32)"
      ]
     },
     "execution_count": 65,
     "metadata": {},
     "output_type": "execute_result"
    }
   ],
   "source": [
    "reloaded_preds[:10]"
   ]
  },
  {
   "cell_type": "markdown",
   "metadata": {},
   "source": [
    "### Using only Vader Sentiments to Predict Depression"
   ]
  },
  {
   "cell_type": "code",
   "execution_count": 665,
   "metadata": {},
   "outputs": [
    {
     "data": {
      "text/plain": [
       "1    115\n",
       "0     85\n",
       "Name: subreddit, dtype: int64"
      ]
     },
     "execution_count": 665,
     "metadata": {},
     "output_type": "execute_result"
    }
   ],
   "source": [
    "binary_sent_sample = sample_df.sample(200,random_state=7)[['neg','neu','pos','comp','subreddit']]\n",
    "binary_sent_sample['subreddit'].value_counts()"
   ]
  },
  {
   "cell_type": "code",
   "execution_count": 666,
   "metadata": {},
   "outputs": [],
   "source": [
    "X = binary_sent_sample.drop(columns='subreddit')\n",
    "y = binary_sent_sample['subreddit']"
   ]
  },
  {
   "cell_type": "code",
   "execution_count": 668,
   "metadata": {},
   "outputs": [],
   "source": [
    "X_train, X_test, y_train, y_test = train_test_split(X,y)"
   ]
  },
  {
   "cell_type": "code",
   "execution_count": 689,
   "metadata": {},
   "outputs": [],
   "source": [
    "model_s = Sequential()\n",
    "\n",
    "model_s.add(Input(shape=(X_train.shape[1],)))\n",
    "model_s.add(Dense(12,activation='relu'))\n",
    "\n",
    "model_s.add(Dense(1,activation='sigmoid'))\n",
    "\n",
    "#Architechture might be too simple here, make it (a bit) more robust and see if accuracy improves\n",
    "#Also go back and set things up so sample for this sentiment-based test is the same as the bERT test and compare."
   ]
  },
  {
   "cell_type": "code",
   "execution_count": 685,
   "metadata": {},
   "outputs": [],
   "source": [
    "model_s.compile(optimizer='adam', loss='binary_crossentropy', metrics=['accuracy'])"
   ]
  },
  {
   "cell_type": "code",
   "execution_count": 686,
   "metadata": {},
   "outputs": [],
   "source": [
    "history_s = model_s.fit(X_train,y_train, validation_data=(X_test,y_test), epochs=300, verbose=0, batch_size=16)"
   ]
  },
  {
   "cell_type": "code",
   "execution_count": 687,
   "metadata": {},
   "outputs": [
    {
     "data": {
      "text/plain": [
       "0.6966000071167946"
      ]
     },
     "execution_count": 687,
     "metadata": {},
     "output_type": "execute_result"
    }
   ],
   "source": [
    "np.mean(history_s.history['val_accuracy'])"
   ]
  },
  {
   "cell_type": "code",
   "execution_count": 1,
   "metadata": {},
   "outputs": [
    {
     "ename": "NameError",
     "evalue": "name 'plt' is not defined",
     "output_type": "error",
     "traceback": [
      "\u001b[1;31m---------------------------------------------------------------------------\u001b[0m",
      "\u001b[1;31mNameError\u001b[0m                                 Traceback (most recent call last)",
      "\u001b[1;32m<ipython-input-1-2ae98cd8c96d>\u001b[0m in \u001b[0;36m<module>\u001b[1;34m\u001b[0m\n\u001b[1;32m----> 1\u001b[1;33m \u001b[0mplt\u001b[0m\u001b[1;33m.\u001b[0m\u001b[0mfigure\u001b[0m\u001b[1;33m(\u001b[0m\u001b[0mfigsize\u001b[0m\u001b[1;33m=\u001b[0m\u001b[1;33m(\u001b[0m\u001b[1;36m8\u001b[0m\u001b[1;33m,\u001b[0m\u001b[1;36m6\u001b[0m\u001b[1;33m)\u001b[0m\u001b[1;33m)\u001b[0m\u001b[1;33m\u001b[0m\u001b[1;33m\u001b[0m\u001b[0m\n\u001b[0m\u001b[0;32m      2\u001b[0m \u001b[0mplt\u001b[0m\u001b[1;33m.\u001b[0m\u001b[0mplot\u001b[0m\u001b[1;33m(\u001b[0m\u001b[0mhistory_s\u001b[0m\u001b[1;33m.\u001b[0m\u001b[0mhistory\u001b[0m\u001b[1;33m[\u001b[0m\u001b[1;34m'accuracy'\u001b[0m\u001b[1;33m]\u001b[0m\u001b[1;33m,\u001b[0m \u001b[0mlabel\u001b[0m\u001b[1;33m=\u001b[0m\u001b[1;34m'Train'\u001b[0m\u001b[1;33m)\u001b[0m\u001b[1;33m\u001b[0m\u001b[1;33m\u001b[0m\u001b[0m\n\u001b[0;32m      3\u001b[0m \u001b[0mplt\u001b[0m\u001b[1;33m.\u001b[0m\u001b[0mplot\u001b[0m\u001b[1;33m(\u001b[0m\u001b[0mhistory_s\u001b[0m\u001b[1;33m.\u001b[0m\u001b[0mhistory\u001b[0m\u001b[1;33m[\u001b[0m\u001b[1;34m'val_accuracy'\u001b[0m\u001b[1;33m]\u001b[0m\u001b[1;33m,\u001b[0m \u001b[0mlabel\u001b[0m\u001b[1;33m=\u001b[0m\u001b[1;34m'Test'\u001b[0m\u001b[1;33m)\u001b[0m\u001b[1;33m\u001b[0m\u001b[1;33m\u001b[0m\u001b[0m\n\u001b[0;32m      4\u001b[0m \u001b[0mplt\u001b[0m\u001b[1;33m.\u001b[0m\u001b[0mlegend\u001b[0m\u001b[1;33m(\u001b[0m\u001b[1;33m)\u001b[0m\u001b[1;33m\u001b[0m\u001b[1;33m\u001b[0m\u001b[0m\n",
      "\u001b[1;31mNameError\u001b[0m: name 'plt' is not defined"
     ]
    }
   ],
   "source": [
    "plt.figure(figsize=(8,6))\n",
    "plt.plot(history_s.history['accuracy'], label='Train')\n",
    "plt.plot(history_s.history['val_accuracy'], label='Test')\n",
    "plt.legend()"
   ]
  },
  {
   "cell_type": "code",
   "execution_count": null,
   "metadata": {},
   "outputs": [],
   "source": []
  },
  {
   "cell_type": "code",
   "execution_count": 3,
   "metadata": {},
   "outputs": [],
   "source": [
    "nlp = spacy.load(\"en_trf_distilbertbaseuncased_lg\")"
   ]
  },
  {
   "cell_type": "code",
   "execution_count": null,
   "metadata": {},
   "outputs": [],
   "source": [
    "#doc1 = nlp(depression)\n",
    "#doc2 = nlp(anxiety)\n",
    "#doc3 = nlp(neutral)"
   ]
  }
 ],
 "metadata": {
  "kernelspec": {
   "display_name": "Python 3",
   "language": "python",
   "name": "python3"
  },
  "language_info": {
   "codemirror_mode": {
    "name": "ipython",
    "version": 3
   },
   "file_extension": ".py",
   "mimetype": "text/x-python",
   "name": "python",
   "nbconvert_exporter": "python",
   "pygments_lexer": "ipython3",
   "version": "3.8.5"
  }
 },
 "nbformat": 4,
 "nbformat_minor": 4
}
