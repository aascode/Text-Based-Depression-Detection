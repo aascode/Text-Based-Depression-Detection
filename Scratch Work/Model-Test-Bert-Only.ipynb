{
 "cells": [
  {
   "cell_type": "code",
   "execution_count": 1,
   "metadata": {},
   "outputs": [],
   "source": [
    "import pandas as pd\n",
    "import numpy as np\n",
    "import matplotlib.pyplot as plt\n",
    "import seaborn as sns\n",
    "\n",
    "from textblob import TextBlob\n",
    "from vaderSentiment.vaderSentiment import SentimentIntensityAnalyzer\n",
    "\n",
    "import spacy\n",
    "from sklearn.linear_model import LogisticRegression\n",
    "from sklearn.ensemble import RandomForestClassifier\n",
    "from sklearn.feature_extraction.text import CountVectorizer\n",
    "from sklearn.pipeline import make_pipeline\n",
    "from sklearn.model_selection import train_test_split\n",
    "\n",
    "import re\n",
    "\n",
    "import tensorflow as tf\n",
    "from tensorflow.keras.models import Sequential\n",
    "from tensorflow.keras.layers import Dense, Dropout, GRU, Input, Flatten\n",
    "from tensorflow.keras.optimizers import Adam\n",
    "from tensorflow.keras.preprocessing.sequence import TimeseriesGenerator, pad_sequences\n",
    "from tensorflow.keras.wrappers.scikit_learn import KerasClassifier, KerasRegressor"
   ]
  },
  {
   "cell_type": "code",
   "execution_count": 6,
   "metadata": {},
   "outputs": [],
   "source": [
    "depression = pd.read_csv('../data/depression_30k.csv')\n",
    "anxiety = pd.read_csv('../data/anxiety_20k.csv')\n",
    "basetext = pd.read_csv('../data/basetext.csv')"
   ]
  },
  {
   "cell_type": "code",
   "execution_count": 7,
   "metadata": {},
   "outputs": [],
   "source": [
    "depression.drop(columns='Unnamed: 0',inplace=True)\n",
    "anxiety.drop(columns='Unnamed: 0',inplace=True)\n",
    "basetext.drop(columns='Unnamed: 0',inplace=True)"
   ]
  },
  {
   "cell_type": "code",
   "execution_count": 8,
   "metadata": {},
   "outputs": [
    {
     "data": {
      "text/html": [
       "<div>\n",
       "<style scoped>\n",
       "    .dataframe tbody tr th:only-of-type {\n",
       "        vertical-align: middle;\n",
       "    }\n",
       "\n",
       "    .dataframe tbody tr th {\n",
       "        vertical-align: top;\n",
       "    }\n",
       "\n",
       "    .dataframe thead th {\n",
       "        text-align: right;\n",
       "    }\n",
       "</style>\n",
       "<table border=\"1\" class=\"dataframe\">\n",
       "  <thead>\n",
       "    <tr style=\"text-align: right;\">\n",
       "      <th></th>\n",
       "      <th>title</th>\n",
       "      <th>author</th>\n",
       "      <th>selftext</th>\n",
       "      <th>created_utc</th>\n",
       "      <th>subreddit</th>\n",
       "    </tr>\n",
       "  </thead>\n",
       "  <tbody>\n",
       "    <tr>\n",
       "      <th>0</th>\n",
       "      <td>Lifes unfair for us lonely ones</td>\n",
       "      <td>maxpaxxo</td>\n",
       "      <td>When I was 12-13 and under I still had good so...</td>\n",
       "      <td>1602713897</td>\n",
       "      <td>depression</td>\n",
       "    </tr>\n",
       "    <tr>\n",
       "      <th>1</th>\n",
       "      <td>Disconnected</td>\n",
       "      <td>Alexmc4444</td>\n",
       "      <td>Does anyone else feel like what has happened i...</td>\n",
       "      <td>1602713800</td>\n",
       "      <td>depression</td>\n",
       "    </tr>\n",
       "    <tr>\n",
       "      <th>2</th>\n",
       "      <td>I can’t ever focus and it’s getting worse.</td>\n",
       "      <td>aj2morrow</td>\n",
       "      <td>I’m just so tired all the time, and because of...</td>\n",
       "      <td>1602713545</td>\n",
       "      <td>depression</td>\n",
       "    </tr>\n",
       "    <tr>\n",
       "      <th>3</th>\n",
       "      <td>Need a word of courage today, please help me :,)</td>\n",
       "      <td>Lynx-Murky</td>\n",
       "      <td>i have so many things i want/need to do, i wan...</td>\n",
       "      <td>1602713514</td>\n",
       "      <td>depression</td>\n",
       "    </tr>\n",
       "    <tr>\n",
       "      <th>4</th>\n",
       "      <td>I finally got my anxiety under control, but no...</td>\n",
       "      <td>throwaway_87653</td>\n",
       "      <td>Just rambling. I’ve been struggling with anxie...</td>\n",
       "      <td>1602713437</td>\n",
       "      <td>depression</td>\n",
       "    </tr>\n",
       "  </tbody>\n",
       "</table>\n",
       "</div>"
      ],
      "text/plain": [
       "                                               title           author  \\\n",
       "0                    Lifes unfair for us lonely ones         maxpaxxo   \n",
       "1                                       Disconnected       Alexmc4444   \n",
       "2         I can’t ever focus and it’s getting worse.        aj2morrow   \n",
       "3   Need a word of courage today, please help me :,)       Lynx-Murky   \n",
       "4  I finally got my anxiety under control, but no...  throwaway_87653   \n",
       "\n",
       "                                            selftext  created_utc   subreddit  \n",
       "0  When I was 12-13 and under I still had good so...   1602713897  depression  \n",
       "1  Does anyone else feel like what has happened i...   1602713800  depression  \n",
       "2  I’m just so tired all the time, and because of...   1602713545  depression  \n",
       "3  i have so many things i want/need to do, i wan...   1602713514  depression  \n",
       "4  Just rambling. I’ve been struggling with anxie...   1602713437  depression  "
      ]
     },
     "execution_count": 8,
     "metadata": {},
     "output_type": "execute_result"
    }
   ],
   "source": [
    "depression.head()"
   ]
  },
  {
   "cell_type": "code",
   "execution_count": 9,
   "metadata": {},
   "outputs": [
    {
     "data": {
      "text/html": [
       "<div>\n",
       "<style scoped>\n",
       "    .dataframe tbody tr th:only-of-type {\n",
       "        vertical-align: middle;\n",
       "    }\n",
       "\n",
       "    .dataframe tbody tr th {\n",
       "        vertical-align: top;\n",
       "    }\n",
       "\n",
       "    .dataframe thead th {\n",
       "        text-align: right;\n",
       "    }\n",
       "</style>\n",
       "<table border=\"1\" class=\"dataframe\">\n",
       "  <thead>\n",
       "    <tr style=\"text-align: right;\">\n",
       "      <th></th>\n",
       "      <th>title</th>\n",
       "      <th>author</th>\n",
       "      <th>selftext</th>\n",
       "      <th>created_utc</th>\n",
       "      <th>subreddit</th>\n",
       "    </tr>\n",
       "  </thead>\n",
       "  <tbody>\n",
       "    <tr>\n",
       "      <th>0</th>\n",
       "      <td>Fate has a sense of humor</td>\n",
       "      <td>themangoberri</td>\n",
       "      <td>Just reflecting on the fact that so many of th...</td>\n",
       "      <td>1602713908</td>\n",
       "      <td>Anxiety</td>\n",
       "    </tr>\n",
       "    <tr>\n",
       "      <th>1</th>\n",
       "      <td>Someone shake me and say it’s all okay!</td>\n",
       "      <td>BigBrainSmallBones</td>\n",
       "      <td>It just feels so overwhelming some times. Long...</td>\n",
       "      <td>1602712822</td>\n",
       "      <td>Anxiety</td>\n",
       "    </tr>\n",
       "    <tr>\n",
       "      <th>2</th>\n",
       "      <td>I strangled my girlfriend to death at the age ...</td>\n",
       "      <td>RecordSerious</td>\n",
       "      <td>\\n\\nExcuse my English and, yes, this is a thr...</td>\n",
       "      <td>1602712789</td>\n",
       "      <td>Anxiety</td>\n",
       "    </tr>\n",
       "    <tr>\n",
       "      <th>3</th>\n",
       "      <td>Is anyone else unable to do literally anything...</td>\n",
       "      <td>Maybe_someday_14</td>\n",
       "      <td>I've noticed that if I have something I'm anxi...</td>\n",
       "      <td>1602712336</td>\n",
       "      <td>Anxiety</td>\n",
       "    </tr>\n",
       "    <tr>\n",
       "      <th>4</th>\n",
       "      <td>Lists</td>\n",
       "      <td>Pleb_On_The_Web_2020</td>\n",
       "      <td>Are you all making more or less lists in 2020?...</td>\n",
       "      <td>1602712000</td>\n",
       "      <td>Anxiety</td>\n",
       "    </tr>\n",
       "  </tbody>\n",
       "</table>\n",
       "</div>"
      ],
      "text/plain": [
       "                                               title                author  \\\n",
       "0                          Fate has a sense of humor         themangoberri   \n",
       "1            Someone shake me and say it’s all okay!    BigBrainSmallBones   \n",
       "2  I strangled my girlfriend to death at the age ...         RecordSerious   \n",
       "3  Is anyone else unable to do literally anything...      Maybe_someday_14   \n",
       "4                                              Lists  Pleb_On_The_Web_2020   \n",
       "\n",
       "                                            selftext  created_utc subreddit  \n",
       "0  Just reflecting on the fact that so many of th...   1602713908   Anxiety  \n",
       "1  It just feels so overwhelming some times. Long...   1602712822   Anxiety  \n",
       "2   \\n\\nExcuse my English and, yes, this is a thr...   1602712789   Anxiety  \n",
       "3  I've noticed that if I have something I'm anxi...   1602712336   Anxiety  \n",
       "4  Are you all making more or less lists in 2020?...   1602712000   Anxiety  "
      ]
     },
     "execution_count": 9,
     "metadata": {},
     "output_type": "execute_result"
    }
   ],
   "source": [
    "anxiety.head()"
   ]
  },
  {
   "cell_type": "code",
   "execution_count": 10,
   "metadata": {},
   "outputs": [
    {
     "data": {
      "text/html": [
       "<div>\n",
       "<style scoped>\n",
       "    .dataframe tbody tr th:only-of-type {\n",
       "        vertical-align: middle;\n",
       "    }\n",
       "\n",
       "    .dataframe tbody tr th {\n",
       "        vertical-align: top;\n",
       "    }\n",
       "\n",
       "    .dataframe thead th {\n",
       "        text-align: right;\n",
       "    }\n",
       "</style>\n",
       "<table border=\"1\" class=\"dataframe\">\n",
       "  <thead>\n",
       "    <tr style=\"text-align: right;\">\n",
       "      <th></th>\n",
       "      <th>title</th>\n",
       "      <th>author</th>\n",
       "      <th>selftext</th>\n",
       "      <th>created_utc</th>\n",
       "      <th>subreddit</th>\n",
       "    </tr>\n",
       "  </thead>\n",
       "  <tbody>\n",
       "    <tr>\n",
       "      <th>0</th>\n",
       "      <td>Why is it that the person who beats themself u...</td>\n",
       "      <td>ToesyToeNails</td>\n",
       "      <td>[removed]</td>\n",
       "      <td>1602713864</td>\n",
       "      <td>CasualConversation</td>\n",
       "    </tr>\n",
       "    <tr>\n",
       "      <th>1</th>\n",
       "      <td>Dealing with sadness</td>\n",
       "      <td>willhound71</td>\n",
       "      <td>Hi I’m Will and I’ve been a lurker for a while...</td>\n",
       "      <td>1602713155</td>\n",
       "      <td>CasualConversation</td>\n",
       "    </tr>\n",
       "    <tr>\n",
       "      <th>2</th>\n",
       "      <td>My life has never been better, and I feel as t...</td>\n",
       "      <td>mrsleveman</td>\n",
       "      <td>Hi :). I live in the UK and I'm 18, currently ...</td>\n",
       "      <td>1602713095</td>\n",
       "      <td>CasualConversation</td>\n",
       "    </tr>\n",
       "    <tr>\n",
       "      <th>3</th>\n",
       "      <td>It‘s my cake day!!!! :o</td>\n",
       "      <td>sinah-mv</td>\n",
       "      <td>I love Reddit and will probably spend too much...</td>\n",
       "      <td>1602713014</td>\n",
       "      <td>CasualConversation</td>\n",
       "    </tr>\n",
       "    <tr>\n",
       "      <th>4</th>\n",
       "      <td>Can I have weed dealer I colorado about 15 min...</td>\n",
       "      <td>WALMART_RAPIST</td>\n",
       "      <td>[removed]</td>\n",
       "      <td>1602712660</td>\n",
       "      <td>CasualConversation</td>\n",
       "    </tr>\n",
       "  </tbody>\n",
       "</table>\n",
       "</div>"
      ],
      "text/plain": [
       "                                               title          author  \\\n",
       "0  Why is it that the person who beats themself u...   ToesyToeNails   \n",
       "1                               Dealing with sadness     willhound71   \n",
       "2  My life has never been better, and I feel as t...      mrsleveman   \n",
       "3                            It‘s my cake day!!!! :o        sinah-mv   \n",
       "4  Can I have weed dealer I colorado about 15 min...  WALMART_RAPIST   \n",
       "\n",
       "                                            selftext  created_utc  \\\n",
       "0                                          [removed]   1602713864   \n",
       "1  Hi I’m Will and I’ve been a lurker for a while...   1602713155   \n",
       "2  Hi :). I live in the UK and I'm 18, currently ...   1602713095   \n",
       "3  I love Reddit and will probably spend too much...   1602713014   \n",
       "4                                          [removed]   1602712660   \n",
       "\n",
       "            subreddit  \n",
       "0  CasualConversation  \n",
       "1  CasualConversation  \n",
       "2  CasualConversation  \n",
       "3  CasualConversation  \n",
       "4  CasualConversation  "
      ]
     },
     "execution_count": 10,
     "metadata": {},
     "output_type": "execute_result"
    }
   ],
   "source": [
    "basetext.head()"
   ]
  },
  {
   "cell_type": "code",
   "execution_count": 12,
   "metadata": {},
   "outputs": [],
   "source": [
    "analyzer = SentimentIntensityAnalyzer()"
   ]
  },
  {
   "cell_type": "code",
   "execution_count": 15,
   "metadata": {},
   "outputs": [
    {
     "data": {
      "text/plain": [
       "{'neg': 0.175, 'neu': 0.689, 'pos': 0.136, 'compound': -1.0}"
      ]
     },
     "execution_count": 15,
     "metadata": {},
     "output_type": "execute_result"
    }
   ],
   "source": [
    "analyzer.polarity_scores(depression.sample(200)['selftext'])"
   ]
  },
  {
   "cell_type": "code",
   "execution_count": 16,
   "metadata": {},
   "outputs": [],
   "source": [
    "sample_df = pd.concat([depression.sample(500),anxiety.sample(500),basetext.sample(500)])"
   ]
  },
  {
   "cell_type": "code",
   "execution_count": 17,
   "metadata": {},
   "outputs": [
    {
     "data": {
      "text/plain": [
       "array(['depression', 'Anxiety', 'CasualConversation', 'happy'],\n",
       "      dtype=object)"
      ]
     },
     "execution_count": 17,
     "metadata": {},
     "output_type": "execute_result"
    }
   ],
   "source": [
    "sample_df['subreddit'].unique()"
   ]
  },
  {
   "cell_type": "code",
   "execution_count": 20,
   "metadata": {},
   "outputs": [],
   "source": [
    "X = sample_df['title'].replace('[removed]','').map(lambda x: str(x))\n",
    "y = sample_df['subreddit'].map({'Anxiety':0,'depression':1,'happy':2,'CasualConversation':2})"
   ]
  },
  {
   "cell_type": "code",
   "execution_count": 21,
   "metadata": {},
   "outputs": [
    {
     "data": {
      "text/plain": [
       "array([1, 0, 2], dtype=int64)"
      ]
     },
     "execution_count": 21,
     "metadata": {},
     "output_type": "execute_result"
    }
   ],
   "source": [
    "y.unique()"
   ]
  },
  {
   "cell_type": "markdown",
   "metadata": {},
   "source": [
    "### Sample Word Embeddings to SKlearn Logistic"
   ]
  },
  {
   "cell_type": "code",
   "execution_count": 22,
   "metadata": {},
   "outputs": [],
   "source": [
    "X_train,X_test,y_train,y_test = train_test_split(X,y,stratify=y)"
   ]
  },
  {
   "cell_type": "code",
   "execution_count": 23,
   "metadata": {},
   "outputs": [],
   "source": [
    "import numpy as np\n",
    "import spacy\n",
    "from sklearn.base import BaseEstimator, TransformerMixin\n",
    "\n",
    "class WordVectorTransformer(TransformerMixin,BaseEstimator):\n",
    "    def __init__(self, model=\"en_trf_bertbaseuncased_lg\"):    #put bert embeddings here\n",
    "        self.model = model\n",
    "    def fit(self,X,y=None):\n",
    "        return self\n",
    "    def transform(self,X):\n",
    "        nlp = spacy.load(self.model)\n",
    "        return np.concatenate([nlp(doc).vector.reshape(1,-1) for doc in X])"
   ]
  },
  {
   "cell_type": "code",
   "execution_count": 24,
   "metadata": {},
   "outputs": [],
   "source": [
    "from sklearn.pipeline import make_pipeline"
   ]
  },
  {
   "cell_type": "code",
   "execution_count": 25,
   "metadata": {},
   "outputs": [],
   "source": [
    "pipe = make_pipeline(WordVectorTransformer(), LogisticRegression())"
   ]
  },
  {
   "cell_type": "code",
   "execution_count": 166,
   "metadata": {},
   "outputs": [
    {
     "name": "stderr",
     "output_type": "stream",
     "text": [
      "C:\\Users\\User\\anaconda3\\lib\\site-packages\\sklearn\\linear_model\\_logistic.py:762: ConvergenceWarning: lbfgs failed to converge (status=1):\n",
      "STOP: TOTAL NO. of ITERATIONS REACHED LIMIT.\n",
      "\n",
      "Increase the number of iterations (max_iter) or scale the data as shown in:\n",
      "    https://scikit-learn.org/stable/modules/preprocessing.html\n",
      "Please also refer to the documentation for alternative solver options:\n",
      "    https://scikit-learn.org/stable/modules/linear_model.html#logistic-regression\n",
      "  n_iter_i = _check_optimize_result(\n"
     ]
    },
    {
     "data": {
      "text/plain": [
       "Pipeline(steps=[('wordvectortransformer', WordVectorTransformer()),\n",
       "                ('logisticregression', LogisticRegression())])"
      ]
     },
     "execution_count": 166,
     "metadata": {},
     "output_type": "execute_result"
    }
   ],
   "source": [
    "pipe.fit(X_train,y_train)"
   ]
  },
  {
   "cell_type": "code",
   "execution_count": 167,
   "metadata": {},
   "outputs": [
    {
     "data": {
      "text/plain": [
       "(0.9911111111111112, 0.5253333333333333)"
      ]
     },
     "execution_count": 167,
     "metadata": {},
     "output_type": "execute_result"
    }
   ],
   "source": [
    "pipe.score(X_train,y_train), pipe.score(X_test,y_test)"
   ]
  },
  {
   "cell_type": "code",
   "execution_count": 137,
   "metadata": {},
   "outputs": [],
   "source": [
    "pipe2 = make_pipeline(CountVectorizer(), LogisticRegression())"
   ]
  },
  {
   "cell_type": "code",
   "execution_count": 151,
   "metadata": {},
   "outputs": [
    {
     "data": {
      "text/plain": [
       "Pipeline(steps=[('countvectorizer', CountVectorizer()),\n",
       "                ('logisticregression', LogisticRegression())])"
      ]
     },
     "execution_count": 151,
     "metadata": {},
     "output_type": "execute_result"
    }
   ],
   "source": [
    "pipe2.fit(X_train,y_train)"
   ]
  },
  {
   "cell_type": "code",
   "execution_count": 152,
   "metadata": {},
   "outputs": [
    {
     "data": {
      "text/plain": [
       "(0.968, 0.692)"
      ]
     },
     "execution_count": 152,
     "metadata": {},
     "output_type": "execute_result"
    }
   ],
   "source": [
    "pipe2.score(X_train,y_train), pipe.score(X_test,y_test)"
   ]
  },
  {
   "cell_type": "code",
   "execution_count": 95,
   "metadata": {},
   "outputs": [
    {
     "data": {
      "text/plain": [
       "{'neg': 0.08, 'neu': 0.593, 'pos': 0.327, 'compound': 0.9989}"
      ]
     },
     "execution_count": 95,
     "metadata": {},
     "output_type": "execute_result"
    }
   ],
   "source": [
    "analyzer.polarity_scores(neutral['selftext'].sample(5))"
   ]
  },
  {
   "cell_type": "code",
   "execution_count": 96,
   "metadata": {},
   "outputs": [
    {
     "data": {
      "text/plain": [
       "{'neg': 0.225, 'neu': 0.707, 'pos': 0.068, 'compound': -0.9916}"
      ]
     },
     "execution_count": 96,
     "metadata": {},
     "output_type": "execute_result"
    }
   ],
   "source": [
    "analyzer.polarity_scores(depression['selftext'].sample(5))"
   ]
  },
  {
   "cell_type": "markdown",
   "metadata": {},
   "source": [
    "### Keras SKlearn Classifier"
   ]
  },
  {
   "cell_type": "code",
   "execution_count": 26,
   "metadata": {},
   "outputs": [],
   "source": [
    "from tensorflow.keras.callbacks import EarlyStopping"
   ]
  },
  {
   "cell_type": "code",
   "execution_count": 27,
   "metadata": {},
   "outputs": [],
   "source": [
    "callback = EarlyStopping(monitor = 'loss', patience = 5)"
   ]
  },
  {
   "cell_type": "code",
   "execution_count": 28,
   "metadata": {},
   "outputs": [],
   "source": [
    "#define a network\n",
    "def network_model():\n",
    "    model2 = Sequential()\n",
    "    model2.add(Dense(64, activation = 'relu'))\n",
    "    model2.add(Dense(64, activation='relu'))\n",
    "    model2.add(Dense(3,activation='softmax'))\n",
    "\n",
    "    model2.compile(optimizer = 'adam', loss = 'categorical_crossentropy', metrics = ['acc'])\n",
    "    \n",
    "    return model2"
   ]
  },
  {
   "cell_type": "code",
   "execution_count": 41,
   "metadata": {},
   "outputs": [],
   "source": [
    "#create the keras regressor\n",
    "clf = KerasClassifier(build_fn = network_model, \n",
    "                     nb_epoch=50, \n",
    "                     )"
   ]
  },
  {
   "cell_type": "code",
   "execution_count": 42,
   "metadata": {},
   "outputs": [],
   "source": [
    "pipe3 = make_pipeline(WordVectorTransformer(), clf)"
   ]
  },
  {
   "cell_type": "code",
   "execution_count": 43,
   "metadata": {},
   "outputs": [
    {
     "name": "stdout",
     "output_type": "stream",
     "text": [
      "36/36 [==============================] - 0s 2ms/step - loss: 1.6462 - acc: 0.4818\n"
     ]
    },
    {
     "data": {
      "text/plain": [
       "Pipeline(steps=[('wordvectortransformer', WordVectorTransformer()),\n",
       "                ('kerasclassifier',\n",
       "                 <tensorflow.python.keras.wrappers.scikit_learn.KerasClassifier object at 0x0000022B8F4578B0>)])"
      ]
     },
     "execution_count": 43,
     "metadata": {},
     "output_type": "execute_result"
    }
   ],
   "source": [
    "pipe3.fit(X_train,y_train)"
   ]
  },
  {
   "cell_type": "code",
   "execution_count": 44,
   "metadata": {},
   "outputs": [
    {
     "name": "stdout",
     "output_type": "stream",
     "text": [
      "36/36 [==============================] - 0s 1ms/step - loss: 0.9405 - acc: 0.5893\n"
     ]
    },
    {
     "data": {
      "text/plain": [
       "0.5893333554267883"
      ]
     },
     "execution_count": 44,
     "metadata": {},
     "output_type": "execute_result"
    }
   ],
   "source": [
    "pipe3.score(X_train, y_train)"
   ]
  },
  {
   "cell_type": "code",
   "execution_count": 45,
   "metadata": {},
   "outputs": [
    {
     "name": "stdout",
     "output_type": "stream",
     "text": [
      "12/12 [==============================] - 0s 1ms/step - loss: 1.1888 - acc: 0.4880\n"
     ]
    },
    {
     "data": {
      "text/plain": [
       "0.4880000054836273"
      ]
     },
     "execution_count": 45,
     "metadata": {},
     "output_type": "execute_result"
    }
   ],
   "source": [
    "pipe3.score(X_test,y_test)"
   ]
  },
  {
   "cell_type": "markdown",
   "metadata": {},
   "source": [
    "### BERT Transform to Keras Model (No Wrap)"
   ]
  },
  {
   "cell_type": "code",
   "execution_count": 29,
   "metadata": {},
   "outputs": [],
   "source": [
    "bertvect = WordVectorTransformer()"
   ]
  },
  {
   "cell_type": "code",
   "execution_count": 30,
   "metadata": {},
   "outputs": [],
   "source": [
    "X_train_bvect = bertvect.fit_transform(X_train)\n",
    "X_test_bvect = bertvect.transform(X_test)"
   ]
  },
  {
   "cell_type": "code",
   "execution_count": 31,
   "metadata": {},
   "outputs": [],
   "source": [
    "y_train_vect = tf.keras.utils.to_categorical(y_train)\n",
    "y_test_vect = tf.keras.utils.to_categorical(y_test)"
   ]
  },
  {
   "cell_type": "code",
   "execution_count": 45,
   "metadata": {},
   "outputs": [],
   "source": [
    "model_k = Sequential()\n",
    "model_k.add(Flatten())\n",
    "model_k.add(Dense(32,activation='relu'))\n",
    "model_k.add(Dropout(0.5))\n",
    "model_k.add(Dense(64,activation='relu'))\n",
    "model_k.add(Dropout(0.5))\n",
    "model_k.add(Dense(128,activation='relu'))\n",
    "model_k.add(Dropout(0.4))\n",
    "\n",
    "model_k.add(Dense(3, activation='softmax'))"
   ]
  },
  {
   "cell_type": "code",
   "execution_count": 46,
   "metadata": {},
   "outputs": [],
   "source": [
    "model_k.compile(\n",
    "    loss = 'categorical_crossentropy',\n",
    "    optimizer='adam',\n",
    "    metrics=['accuracy']\n",
    ")"
   ]
  },
  {
   "cell_type": "code",
   "execution_count": 47,
   "metadata": {
    "collapsed": true,
    "jupyter": {
     "outputs_hidden": true
    }
   },
   "outputs": [
    {
     "name": "stdout",
     "output_type": "stream",
     "text": [
      "Epoch 1/150\n",
      "36/36 [==============================] - 0s 8ms/step - loss: 2.0361 - accuracy: 0.3271 - val_loss: 1.0576 - val_accuracy: 0.4160\n",
      "Epoch 2/150\n",
      "36/36 [==============================] - 0s 3ms/step - loss: 1.1019 - accuracy: 0.3467 - val_loss: 1.0918 - val_accuracy: 0.3653\n",
      "Epoch 3/150\n",
      "36/36 [==============================] - 0s 2ms/step - loss: 1.0999 - accuracy: 0.3529 - val_loss: 1.0673 - val_accuracy: 0.3867\n",
      "Epoch 4/150\n",
      "36/36 [==============================] - 0s 3ms/step - loss: 1.1080 - accuracy: 0.3796 - val_loss: 1.0685 - val_accuracy: 0.3840\n",
      "Epoch 5/150\n",
      "36/36 [==============================] - 0s 3ms/step - loss: 1.1061 - accuracy: 0.3333 - val_loss: 1.0963 - val_accuracy: 0.3333\n",
      "Epoch 6/150\n",
      "36/36 [==============================] - 0s 3ms/step - loss: 1.0989 - accuracy: 0.3164 - val_loss: 1.0962 - val_accuracy: 0.3280\n",
      "Epoch 7/150\n",
      "36/36 [==============================] - 0s 3ms/step - loss: 1.0974 - accuracy: 0.3396 - val_loss: 1.0960 - val_accuracy: 0.3307\n",
      "Epoch 8/150\n",
      "36/36 [==============================] - 0s 3ms/step - loss: 1.0976 - accuracy: 0.3289 - val_loss: 1.0960 - val_accuracy: 0.3227\n",
      "Epoch 9/150\n",
      "36/36 [==============================] - 0s 3ms/step - loss: 1.1018 - accuracy: 0.3378 - val_loss: 1.0954 - val_accuracy: 0.3307\n",
      "Epoch 10/150\n",
      "36/36 [==============================] - 0s 3ms/step - loss: 1.0952 - accuracy: 0.3449 - val_loss: 1.0945 - val_accuracy: 0.3467\n",
      "Epoch 11/150\n",
      "36/36 [==============================] - 0s 3ms/step - loss: 1.0944 - accuracy: 0.3236 - val_loss: 1.0911 - val_accuracy: 0.3627\n",
      "Epoch 12/150\n",
      "36/36 [==============================] - 0s 3ms/step - loss: 1.0962 - accuracy: 0.3404 - val_loss: 1.0900 - val_accuracy: 0.3520\n",
      "Epoch 13/150\n",
      "36/36 [==============================] - 0s 5ms/step - loss: 1.1023 - accuracy: 0.3689 - val_loss: 1.0886 - val_accuracy: 0.3413\n",
      "Epoch 14/150\n",
      "36/36 [==============================] - 0s 3ms/step - loss: 1.0878 - accuracy: 0.3520 - val_loss: 1.0349 - val_accuracy: 0.4320\n",
      "Epoch 15/150\n",
      "36/36 [==============================] - 0s 3ms/step - loss: 1.0607 - accuracy: 0.4053 - val_loss: 0.9581 - val_accuracy: 0.5333\n",
      "Epoch 16/150\n",
      "36/36 [==============================] - 0s 3ms/step - loss: 1.0605 - accuracy: 0.4276 - val_loss: 0.9868 - val_accuracy: 0.4907\n",
      "Epoch 17/150\n",
      "36/36 [==============================] - 0s 3ms/step - loss: 1.0305 - accuracy: 0.4284 - val_loss: 0.9298 - val_accuracy: 0.5173\n",
      "Epoch 18/150\n",
      "36/36 [==============================] - 0s 3ms/step - loss: 1.0327 - accuracy: 0.4151 - val_loss: 0.9991 - val_accuracy: 0.4507\n",
      "Epoch 19/150\n",
      "36/36 [==============================] - 0s 3ms/step - loss: 1.0567 - accuracy: 0.4027 - val_loss: 1.0235 - val_accuracy: 0.4267\n",
      "Epoch 20/150\n",
      "36/36 [==============================] - 0s 3ms/step - loss: 1.0328 - accuracy: 0.4480 - val_loss: 0.9322 - val_accuracy: 0.5120\n",
      "Epoch 21/150\n",
      "36/36 [==============================] - 0s 4ms/step - loss: 0.9913 - accuracy: 0.4613 - val_loss: 0.9314 - val_accuracy: 0.5120\n",
      "Epoch 22/150\n",
      "36/36 [==============================] - 0s 3ms/step - loss: 1.0217 - accuracy: 0.4400 - val_loss: 0.9092 - val_accuracy: 0.5333\n",
      "Epoch 23/150\n",
      "36/36 [==============================] - 0s 3ms/step - loss: 1.0128 - accuracy: 0.4293 - val_loss: 0.9093 - val_accuracy: 0.5520\n",
      "Epoch 24/150\n",
      "36/36 [==============================] - 0s 3ms/step - loss: 0.9976 - accuracy: 0.4507 - val_loss: 0.9261 - val_accuracy: 0.5120\n",
      "Epoch 25/150\n",
      "36/36 [==============================] - 0s 3ms/step - loss: 0.9865 - accuracy: 0.4338 - val_loss: 0.8887 - val_accuracy: 0.5467\n",
      "Epoch 26/150\n",
      "36/36 [==============================] - 0s 2ms/step - loss: 1.0124 - accuracy: 0.4258 - val_loss: 0.8990 - val_accuracy: 0.5253\n",
      "Epoch 27/150\n",
      "36/36 [==============================] - 0s 3ms/step - loss: 0.9751 - accuracy: 0.4471 - val_loss: 0.8913 - val_accuracy: 0.5387\n",
      "Epoch 28/150\n",
      "36/36 [==============================] - 0s 3ms/step - loss: 0.9386 - accuracy: 0.4907 - val_loss: 0.8886 - val_accuracy: 0.5280\n",
      "Epoch 29/150\n",
      "36/36 [==============================] - 0s 3ms/step - loss: 0.9207 - accuracy: 0.4969 - val_loss: 0.8796 - val_accuracy: 0.5467\n",
      "Epoch 30/150\n",
      "36/36 [==============================] - 0s 3ms/step - loss: 0.8956 - accuracy: 0.5022 - val_loss: 0.8742 - val_accuracy: 0.5467\n",
      "Epoch 31/150\n",
      "36/36 [==============================] - 0s 3ms/step - loss: 0.8970 - accuracy: 0.4951 - val_loss: 0.8672 - val_accuracy: 0.5547\n",
      "Epoch 32/150\n",
      "36/36 [==============================] - 0s 3ms/step - loss: 0.9286 - accuracy: 0.4978 - val_loss: 0.8725 - val_accuracy: 0.5573\n",
      "Epoch 33/150\n",
      "36/36 [==============================] - 0s 3ms/step - loss: 0.8995 - accuracy: 0.5031 - val_loss: 0.8814 - val_accuracy: 0.5627\n",
      "Epoch 34/150\n",
      "36/36 [==============================] - 0s 3ms/step - loss: 0.9598 - accuracy: 0.4702 - val_loss: 0.8767 - val_accuracy: 0.5493\n",
      "Epoch 35/150\n",
      "36/36 [==============================] - 0s 3ms/step - loss: 0.9190 - accuracy: 0.4916 - val_loss: 0.8630 - val_accuracy: 0.5600\n",
      "Epoch 36/150\n",
      "36/36 [==============================] - 0s 3ms/step - loss: 0.8979 - accuracy: 0.5013 - val_loss: 0.8563 - val_accuracy: 0.5627\n",
      "Epoch 37/150\n",
      "36/36 [==============================] - 0s 3ms/step - loss: 0.9080 - accuracy: 0.5004 - val_loss: 0.8787 - val_accuracy: 0.5440\n",
      "Epoch 38/150\n",
      "36/36 [==============================] - 0s 3ms/step - loss: 0.8988 - accuracy: 0.5076 - val_loss: 0.8574 - val_accuracy: 0.5680\n",
      "Epoch 39/150\n",
      "36/36 [==============================] - 0s 3ms/step - loss: 0.9057 - accuracy: 0.4871 - val_loss: 0.8620 - val_accuracy: 0.5467\n",
      "Epoch 40/150\n",
      "36/36 [==============================] - 0s 3ms/step - loss: 0.9081 - accuracy: 0.5004 - val_loss: 0.8653 - val_accuracy: 0.5493\n",
      "Epoch 41/150\n",
      "36/36 [==============================] - 0s 3ms/step - loss: 0.8883 - accuracy: 0.5004 - val_loss: 0.8720 - val_accuracy: 0.5387\n",
      "Epoch 42/150\n",
      "36/36 [==============================] - 0s 3ms/step - loss: 0.8611 - accuracy: 0.5378 - val_loss: 0.8673 - val_accuracy: 0.5467\n",
      "Epoch 43/150\n",
      "36/36 [==============================] - 0s 3ms/step - loss: 0.8758 - accuracy: 0.5084 - val_loss: 0.8713 - val_accuracy: 0.5387\n",
      "Epoch 44/150\n",
      "36/36 [==============================] - 0s 3ms/step - loss: 0.8795 - accuracy: 0.5111 - val_loss: 0.8868 - val_accuracy: 0.5413\n",
      "Epoch 45/150\n",
      "36/36 [==============================] - 0s 3ms/step - loss: 0.8911 - accuracy: 0.5058 - val_loss: 0.9170 - val_accuracy: 0.5547\n",
      "Epoch 46/150\n",
      "36/36 [==============================] - 0s 3ms/step - loss: 0.8976 - accuracy: 0.4836 - val_loss: 0.8823 - val_accuracy: 0.5493\n",
      "Epoch 47/150\n",
      "36/36 [==============================] - 0s 3ms/step - loss: 0.8849 - accuracy: 0.5067 - val_loss: 0.9057 - val_accuracy: 0.5520\n",
      "Epoch 48/150\n",
      "36/36 [==============================] - 0s 3ms/step - loss: 0.9024 - accuracy: 0.4987 - val_loss: 0.8755 - val_accuracy: 0.5467\n",
      "Epoch 49/150\n",
      "36/36 [==============================] - 0s 3ms/step - loss: 0.8676 - accuracy: 0.5369 - val_loss: 0.8768 - val_accuracy: 0.5600\n",
      "Epoch 50/150\n",
      "36/36 [==============================] - 0s 3ms/step - loss: 0.8863 - accuracy: 0.4916 - val_loss: 0.8956 - val_accuracy: 0.5760\n",
      "Epoch 51/150\n",
      "36/36 [==============================] - 0s 3ms/step - loss: 0.8758 - accuracy: 0.5200 - val_loss: 0.8690 - val_accuracy: 0.5440\n",
      "Epoch 52/150\n",
      "36/36 [==============================] - 0s 3ms/step - loss: 0.8468 - accuracy: 0.5538 - val_loss: 0.8738 - val_accuracy: 0.5467\n",
      "Epoch 53/150\n",
      "36/36 [==============================] - 0s 3ms/step - loss: 0.8461 - accuracy: 0.5476 - val_loss: 0.8518 - val_accuracy: 0.5600\n",
      "Epoch 54/150\n",
      "36/36 [==============================] - 0s 3ms/step - loss: 0.8496 - accuracy: 0.5333 - val_loss: 0.8671 - val_accuracy: 0.5493\n",
      "Epoch 55/150\n",
      "36/36 [==============================] - 0s 3ms/step - loss: 0.8734 - accuracy: 0.5111 - val_loss: 0.8522 - val_accuracy: 0.5600\n",
      "Epoch 56/150\n",
      "36/36 [==============================] - 0s 3ms/step - loss: 0.8775 - accuracy: 0.5378 - val_loss: 0.8720 - val_accuracy: 0.5360\n",
      "Epoch 57/150\n",
      "36/36 [==============================] - 0s 3ms/step - loss: 0.8498 - accuracy: 0.5111 - val_loss: 0.8588 - val_accuracy: 0.5467\n",
      "Epoch 58/150\n",
      "36/36 [==============================] - 0s 3ms/step - loss: 0.8366 - accuracy: 0.5378 - val_loss: 0.8714 - val_accuracy: 0.5440\n",
      "Epoch 59/150\n",
      "36/36 [==============================] - 0s 3ms/step - loss: 0.8367 - accuracy: 0.5369 - val_loss: 0.8914 - val_accuracy: 0.5413\n",
      "Epoch 60/150\n",
      "36/36 [==============================] - 0s 3ms/step - loss: 0.8223 - accuracy: 0.5422 - val_loss: 0.8927 - val_accuracy: 0.5307\n",
      "Epoch 61/150\n",
      "36/36 [==============================] - 0s 3ms/step - loss: 0.8686 - accuracy: 0.5164 - val_loss: 0.8592 - val_accuracy: 0.5227\n",
      "Epoch 62/150\n",
      "36/36 [==============================] - 0s 3ms/step - loss: 0.8742 - accuracy: 0.5049 - val_loss: 0.8820 - val_accuracy: 0.5093\n",
      "Epoch 63/150\n",
      "36/36 [==============================] - 0s 3ms/step - loss: 0.8503 - accuracy: 0.5476 - val_loss: 0.8596 - val_accuracy: 0.5707\n",
      "Epoch 64/150\n",
      "36/36 [==============================] - 0s 3ms/step - loss: 0.8212 - accuracy: 0.5413 - val_loss: 0.8648 - val_accuracy: 0.5467\n",
      "Epoch 65/150\n",
      "36/36 [==============================] - 0s 3ms/step - loss: 0.8644 - accuracy: 0.5102 - val_loss: 0.8730 - val_accuracy: 0.5387\n",
      "Epoch 66/150\n",
      "36/36 [==============================] - 0s 3ms/step - loss: 0.8563 - accuracy: 0.5342 - val_loss: 0.8819 - val_accuracy: 0.5227\n",
      "Epoch 67/150\n",
      "36/36 [==============================] - 0s 2ms/step - loss: 0.8409 - accuracy: 0.5440 - val_loss: 0.8645 - val_accuracy: 0.5387\n",
      "Epoch 68/150\n",
      "36/36 [==============================] - 0s 3ms/step - loss: 0.8376 - accuracy: 0.5298 - val_loss: 0.8673 - val_accuracy: 0.5307\n",
      "Epoch 69/150\n",
      "36/36 [==============================] - 0s 3ms/step - loss: 0.9136 - accuracy: 0.5076 - val_loss: 0.8703 - val_accuracy: 0.5147\n",
      "Epoch 70/150\n",
      "36/36 [==============================] - 0s 3ms/step - loss: 0.8568 - accuracy: 0.5502 - val_loss: 0.8621 - val_accuracy: 0.5280\n",
      "Epoch 71/150\n",
      "36/36 [==============================] - 0s 3ms/step - loss: 0.8375 - accuracy: 0.5369 - val_loss: 0.8699 - val_accuracy: 0.5440\n",
      "Epoch 72/150\n",
      "36/36 [==============================] - 0s 3ms/step - loss: 0.8247 - accuracy: 0.5271 - val_loss: 0.8819 - val_accuracy: 0.5440\n",
      "Epoch 73/150\n",
      "36/36 [==============================] - 0s 3ms/step - loss: 0.8471 - accuracy: 0.5333 - val_loss: 0.9527 - val_accuracy: 0.5173\n",
      "Epoch 74/150\n",
      "36/36 [==============================] - 0s 3ms/step - loss: 0.8235 - accuracy: 0.5387 - val_loss: 0.8791 - val_accuracy: 0.5333\n",
      "Epoch 75/150\n",
      "36/36 [==============================] - 0s 3ms/step - loss: 0.8464 - accuracy: 0.5316 - val_loss: 0.8746 - val_accuracy: 0.5253\n",
      "Epoch 76/150\n",
      "36/36 [==============================] - 0s 3ms/step - loss: 0.8326 - accuracy: 0.5253 - val_loss: 0.9135 - val_accuracy: 0.5520\n",
      "Epoch 77/150\n",
      "36/36 [==============================] - 0s 3ms/step - loss: 0.8209 - accuracy: 0.5404 - val_loss: 0.9111 - val_accuracy: 0.5413\n",
      "Epoch 78/150\n",
      "36/36 [==============================] - 0s 3ms/step - loss: 0.8583 - accuracy: 0.5173 - val_loss: 0.8773 - val_accuracy: 0.5253\n",
      "Epoch 79/150\n",
      "36/36 [==============================] - 0s 3ms/step - loss: 0.8277 - accuracy: 0.5511 - val_loss: 0.8818 - val_accuracy: 0.5227\n",
      "Epoch 80/150\n",
      "36/36 [==============================] - 0s 3ms/step - loss: 0.8091 - accuracy: 0.5484 - val_loss: 0.8899 - val_accuracy: 0.5360\n",
      "Epoch 81/150\n",
      "36/36 [==============================] - 0s 3ms/step - loss: 0.8151 - accuracy: 0.5316 - val_loss: 0.9108 - val_accuracy: 0.5387\n",
      "Epoch 82/150\n",
      "36/36 [==============================] - 0s 3ms/step - loss: 0.8110 - accuracy: 0.5253 - val_loss: 0.9164 - val_accuracy: 0.5333\n",
      "Epoch 83/150\n",
      "36/36 [==============================] - 0s 3ms/step - loss: 0.8467 - accuracy: 0.5404 - val_loss: 0.8876 - val_accuracy: 0.5307\n",
      "Epoch 84/150\n",
      "36/36 [==============================] - 0s 3ms/step - loss: 0.8406 - accuracy: 0.5351 - val_loss: 0.8720 - val_accuracy: 0.5440\n",
      "Epoch 85/150\n",
      "36/36 [==============================] - 0s 3ms/step - loss: 0.8193 - accuracy: 0.5493 - val_loss: 0.8908 - val_accuracy: 0.5360\n",
      "Epoch 86/150\n",
      "36/36 [==============================] - 0s 3ms/step - loss: 0.8009 - accuracy: 0.5680 - val_loss: 0.8646 - val_accuracy: 0.5413\n",
      "Epoch 87/150\n",
      "36/36 [==============================] - 0s 3ms/step - loss: 0.8150 - accuracy: 0.5351 - val_loss: 0.8630 - val_accuracy: 0.5413\n",
      "Epoch 88/150\n",
      "36/36 [==============================] - 0s 3ms/step - loss: 0.7952 - accuracy: 0.5458 - val_loss: 0.8823 - val_accuracy: 0.5440\n",
      "Epoch 89/150\n",
      "36/36 [==============================] - 0s 3ms/step - loss: 0.8093 - accuracy: 0.5324 - val_loss: 0.9487 - val_accuracy: 0.5413\n",
      "Epoch 90/150\n",
      "36/36 [==============================] - 0s 3ms/step - loss: 0.7696 - accuracy: 0.5796 - val_loss: 0.9539 - val_accuracy: 0.5413\n",
      "Epoch 91/150\n",
      "36/36 [==============================] - 0s 3ms/step - loss: 0.7950 - accuracy: 0.5511 - val_loss: 0.9603 - val_accuracy: 0.5467\n",
      "Epoch 92/150\n",
      "36/36 [==============================] - 0s 3ms/step - loss: 0.8398 - accuracy: 0.5511 - val_loss: 0.9257 - val_accuracy: 0.5360\n",
      "Epoch 93/150\n",
      "36/36 [==============================] - 0s 3ms/step - loss: 0.8262 - accuracy: 0.5271 - val_loss: 0.9005 - val_accuracy: 0.5493\n",
      "Epoch 94/150\n",
      "36/36 [==============================] - 0s 3ms/step - loss: 0.8191 - accuracy: 0.5404 - val_loss: 0.9148 - val_accuracy: 0.5387\n",
      "Epoch 95/150\n",
      "36/36 [==============================] - 0s 3ms/step - loss: 0.8131 - accuracy: 0.5564 - val_loss: 0.8949 - val_accuracy: 0.5413\n",
      "Epoch 96/150\n",
      "36/36 [==============================] - 0s 3ms/step - loss: 0.8243 - accuracy: 0.5396 - val_loss: 0.8938 - val_accuracy: 0.5493\n",
      "Epoch 97/150\n",
      "36/36 [==============================] - 0s 3ms/step - loss: 0.7910 - accuracy: 0.5458 - val_loss: 0.9036 - val_accuracy: 0.5493\n",
      "Epoch 98/150\n",
      "36/36 [==============================] - 0s 3ms/step - loss: 0.8019 - accuracy: 0.5493 - val_loss: 0.9319 - val_accuracy: 0.5627\n",
      "Epoch 99/150\n",
      "36/36 [==============================] - 0s 2ms/step - loss: 0.8064 - accuracy: 0.5431 - val_loss: 0.8932 - val_accuracy: 0.5360\n",
      "Epoch 100/150\n",
      "36/36 [==============================] - 0s 3ms/step - loss: 0.7595 - accuracy: 0.5653 - val_loss: 1.0026 - val_accuracy: 0.5493\n",
      "Epoch 101/150\n",
      "36/36 [==============================] - 0s 3ms/step - loss: 0.8008 - accuracy: 0.5644 - val_loss: 0.9143 - val_accuracy: 0.5440\n",
      "Epoch 102/150\n",
      "36/36 [==============================] - 0s 3ms/step - loss: 0.7686 - accuracy: 0.5742 - val_loss: 0.9773 - val_accuracy: 0.5333\n",
      "Epoch 103/150\n",
      "36/36 [==============================] - 0s 3ms/step - loss: 0.7998 - accuracy: 0.5698 - val_loss: 0.9488 - val_accuracy: 0.5573\n",
      "Epoch 104/150\n",
      "36/36 [==============================] - 0s 3ms/step - loss: 0.7797 - accuracy: 0.5582 - val_loss: 0.9542 - val_accuracy: 0.5467\n",
      "Epoch 105/150\n",
      "36/36 [==============================] - 0s 3ms/step - loss: 0.7875 - accuracy: 0.5564 - val_loss: 1.0068 - val_accuracy: 0.5467\n",
      "Epoch 106/150\n",
      "36/36 [==============================] - 0s 3ms/step - loss: 0.7817 - accuracy: 0.5573 - val_loss: 1.0374 - val_accuracy: 0.5440\n",
      "Epoch 107/150\n",
      "36/36 [==============================] - 0s 2ms/step - loss: 0.7971 - accuracy: 0.5440 - val_loss: 1.0842 - val_accuracy: 0.5440\n",
      "Epoch 108/150\n",
      "36/36 [==============================] - 0s 3ms/step - loss: 0.7964 - accuracy: 0.5467 - val_loss: 1.1204 - val_accuracy: 0.5520\n",
      "Epoch 109/150\n",
      "36/36 [==============================] - 0s 3ms/step - loss: 0.7948 - accuracy: 0.5636 - val_loss: 1.0554 - val_accuracy: 0.5440\n",
      "Epoch 110/150\n",
      "36/36 [==============================] - 0s 3ms/step - loss: 0.8205 - accuracy: 0.5369 - val_loss: 1.0011 - val_accuracy: 0.5360\n",
      "Epoch 111/150\n",
      "36/36 [==============================] - 0s 3ms/step - loss: 0.8383 - accuracy: 0.5067 - val_loss: 0.9812 - val_accuracy: 0.5413\n",
      "Epoch 112/150\n",
      "36/36 [==============================] - 0s 3ms/step - loss: 0.8362 - accuracy: 0.5102 - val_loss: 0.9854 - val_accuracy: 0.5413\n",
      "Epoch 113/150\n",
      "36/36 [==============================] - 0s 3ms/step - loss: 0.7945 - accuracy: 0.5813 - val_loss: 0.9903 - val_accuracy: 0.5333\n",
      "Epoch 114/150\n",
      "36/36 [==============================] - 0s 3ms/step - loss: 0.7955 - accuracy: 0.5644 - val_loss: 0.9644 - val_accuracy: 0.5387\n",
      "Epoch 115/150\n",
      "36/36 [==============================] - 0s 3ms/step - loss: 0.8087 - accuracy: 0.5280 - val_loss: 1.0418 - val_accuracy: 0.5440\n",
      "Epoch 116/150\n",
      "36/36 [==============================] - 0s 3ms/step - loss: 0.7782 - accuracy: 0.5591 - val_loss: 1.0261 - val_accuracy: 0.5467\n",
      "Epoch 117/150\n",
      "36/36 [==============================] - 0s 3ms/step - loss: 0.7779 - accuracy: 0.5556 - val_loss: 1.0612 - val_accuracy: 0.5280\n",
      "Epoch 118/150\n",
      "36/36 [==============================] - 0s 3ms/step - loss: 0.7740 - accuracy: 0.5689 - val_loss: 1.0659 - val_accuracy: 0.5627\n",
      "Epoch 119/150\n",
      "36/36 [==============================] - 0s 3ms/step - loss: 0.7903 - accuracy: 0.5591 - val_loss: 1.1046 - val_accuracy: 0.5360\n",
      "Epoch 120/150\n",
      "36/36 [==============================] - 0s 3ms/step - loss: 0.8111 - accuracy: 0.5404 - val_loss: 1.0142 - val_accuracy: 0.5387\n",
      "Epoch 121/150\n",
      "36/36 [==============================] - 0s 3ms/step - loss: 0.8107 - accuracy: 0.5467 - val_loss: 1.2103 - val_accuracy: 0.5493\n",
      "Epoch 122/150\n",
      "36/36 [==============================] - 0s 3ms/step - loss: 0.7983 - accuracy: 0.5760 - val_loss: 1.0784 - val_accuracy: 0.5493\n",
      "Epoch 123/150\n",
      "36/36 [==============================] - 0s 3ms/step - loss: 0.7934 - accuracy: 0.5600 - val_loss: 1.0303 - val_accuracy: 0.5467\n",
      "Epoch 124/150\n",
      "36/36 [==============================] - 0s 2ms/step - loss: 0.8865 - accuracy: 0.5431 - val_loss: 0.8931 - val_accuracy: 0.5760\n",
      "Epoch 125/150\n",
      "36/36 [==============================] - 0s 3ms/step - loss: 0.8040 - accuracy: 0.5618 - val_loss: 0.8554 - val_accuracy: 0.5547\n",
      "Epoch 126/150\n",
      "36/36 [==============================] - 0s 3ms/step - loss: 0.8051 - accuracy: 0.5778 - val_loss: 0.8810 - val_accuracy: 0.5520\n",
      "Epoch 127/150\n",
      "36/36 [==============================] - 0s 3ms/step - loss: 0.8021 - accuracy: 0.5422 - val_loss: 0.8723 - val_accuracy: 0.5547\n",
      "Epoch 128/150\n",
      "36/36 [==============================] - 0s 3ms/step - loss: 0.7944 - accuracy: 0.5778 - val_loss: 0.9100 - val_accuracy: 0.5440\n",
      "Epoch 129/150\n",
      "36/36 [==============================] - 0s 3ms/step - loss: 0.7890 - accuracy: 0.5502 - val_loss: 0.9449 - val_accuracy: 0.5467\n",
      "Epoch 130/150\n",
      "36/36 [==============================] - 0s 3ms/step - loss: 0.7781 - accuracy: 0.5662 - val_loss: 0.9465 - val_accuracy: 0.5520\n",
      "Epoch 131/150\n",
      "36/36 [==============================] - 0s 3ms/step - loss: 0.7823 - accuracy: 0.5627 - val_loss: 0.9784 - val_accuracy: 0.5493\n",
      "Epoch 132/150\n",
      "36/36 [==============================] - 0s 3ms/step - loss: 0.7732 - accuracy: 0.5644 - val_loss: 1.0061 - val_accuracy: 0.5413\n",
      "Epoch 133/150\n",
      "36/36 [==============================] - 0s 2ms/step - loss: 0.7566 - accuracy: 0.5680 - val_loss: 1.0065 - val_accuracy: 0.5413\n",
      "Epoch 134/150\n",
      "36/36 [==============================] - 0s 3ms/step - loss: 0.7651 - accuracy: 0.5733 - val_loss: 1.0636 - val_accuracy: 0.5467\n",
      "Epoch 135/150\n",
      "36/36 [==============================] - 0s 3ms/step - loss: 0.7541 - accuracy: 0.5564 - val_loss: 1.0734 - val_accuracy: 0.5387\n",
      "Epoch 136/150\n",
      "36/36 [==============================] - 0s 3ms/step - loss: 0.7614 - accuracy: 0.5796 - val_loss: 1.1031 - val_accuracy: 0.5413\n",
      "Epoch 137/150\n",
      "36/36 [==============================] - 0s 3ms/step - loss: 0.7644 - accuracy: 0.5778 - val_loss: 1.1501 - val_accuracy: 0.5440\n",
      "Epoch 138/150\n",
      "36/36 [==============================] - 0s 3ms/step - loss: 0.7637 - accuracy: 0.5751 - val_loss: 1.1359 - val_accuracy: 0.5520\n",
      "Epoch 139/150\n",
      "36/36 [==============================] - 0s 3ms/step - loss: 0.7614 - accuracy: 0.5538 - val_loss: 1.2548 - val_accuracy: 0.5520\n",
      "Epoch 140/150\n",
      "36/36 [==============================] - 0s 3ms/step - loss: 0.7837 - accuracy: 0.5484 - val_loss: 1.3146 - val_accuracy: 0.5413\n",
      "Epoch 141/150\n",
      "36/36 [==============================] - 0s 3ms/step - loss: 0.7594 - accuracy: 0.5724 - val_loss: 1.1652 - val_accuracy: 0.5413\n",
      "Epoch 142/150\n",
      "36/36 [==============================] - 0s 3ms/step - loss: 0.7717 - accuracy: 0.5582 - val_loss: 1.2138 - val_accuracy: 0.5333\n",
      "Epoch 143/150\n",
      "36/36 [==============================] - 0s 3ms/step - loss: 0.7654 - accuracy: 0.5653 - val_loss: 1.1052 - val_accuracy: 0.5387\n",
      "Epoch 144/150\n",
      "36/36 [==============================] - 0s 3ms/step - loss: 0.7591 - accuracy: 0.5591 - val_loss: 1.2538 - val_accuracy: 0.5467\n",
      "Epoch 145/150\n",
      "36/36 [==============================] - 0s 3ms/step - loss: 0.7629 - accuracy: 0.5751 - val_loss: 1.1061 - val_accuracy: 0.5520\n",
      "Epoch 146/150\n",
      "36/36 [==============================] - 0s 3ms/step - loss: 0.7616 - accuracy: 0.5582 - val_loss: 1.0951 - val_accuracy: 0.5467\n",
      "Epoch 147/150\n",
      "36/36 [==============================] - 0s 3ms/step - loss: 0.7739 - accuracy: 0.5609 - val_loss: 1.6815 - val_accuracy: 0.5573\n",
      "Epoch 148/150\n",
      "36/36 [==============================] - 0s 2ms/step - loss: 0.8464 - accuracy: 0.5396 - val_loss: 1.0013 - val_accuracy: 0.5493\n",
      "Epoch 149/150\n",
      "36/36 [==============================] - 0s 2ms/step - loss: 0.8509 - accuracy: 0.5262 - val_loss: 0.9444 - val_accuracy: 0.5493\n",
      "Epoch 150/150\n",
      "36/36 [==============================] - 0s 3ms/step - loss: 0.8105 - accuracy: 0.5404 - val_loss: 0.9806 - val_accuracy: 0.5493\n"
     ]
    }
   ],
   "source": [
    "history_k = model_k.fit(X_train_bvect,y_train_vect,validation_data = (X_test_bvect,y_test_vect),epochs=150)"
   ]
  },
  {
   "cell_type": "code",
   "execution_count": null,
   "metadata": {},
   "outputs": [],
   "source": []
  }
 ],
 "metadata": {
  "kernelspec": {
   "display_name": "Python 3",
   "language": "python",
   "name": "python3"
  },
  "language_info": {
   "codemirror_mode": {
    "name": "ipython",
    "version": 3
   },
   "file_extension": ".py",
   "mimetype": "text/x-python",
   "name": "python",
   "nbconvert_exporter": "python",
   "pygments_lexer": "ipython3",
   "version": "3.8.3"
  }
 },
 "nbformat": 4,
 "nbformat_minor": 4
}
