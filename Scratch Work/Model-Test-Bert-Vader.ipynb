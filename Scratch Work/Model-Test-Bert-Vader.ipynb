{
 "cells": [
  {
   "cell_type": "code",
   "execution_count": 15,
   "metadata": {},
   "outputs": [],
   "source": [
    "import pandas as pd\n",
    "import numpy as np\n",
    "import matplotlib.pyplot as plt\n",
    "import seaborn as sns\n",
    "\n",
    "from vaderSentiment.vaderSentiment import SentimentIntensityAnalyzer\n",
    "\n",
    "import spacy\n",
    "from sklearn.linear_model import LogisticRegression\n",
    "from sklearn.ensemble import RandomForestClassifier\n",
    "from sklearn.feature_extraction.text import CountVectorizer\n",
    "from sklearn.pipeline import make_pipeline\n",
    "from sklearn.model_selection import train_test_split\n",
    "\n",
    "from nltk.stem.porter import PorterStemmer\n",
    "from nltk.stem import WordNetLemmatizer\n",
    "from nltk.tokenize import RegexpTokenizer, word_tokenize\n",
    "import re\n",
    "\n",
    "import tensorflow as tf\n",
    "from tensorflow.keras.models import Sequential\n",
    "from tensorflow.keras.layers import Dense, Dropout, GRU, Input, Flatten, LSTM, Conv1D, MaxPooling1D\n",
    "from tensorflow.keras.optimizers import Adam\n",
    "from tensorflow.keras.preprocessing.sequence import TimeseriesGenerator, pad_sequences\n",
    "from tensorflow.keras.wrappers.scikit_learn import KerasClassifier, KerasRegressor\n",
    "from tensorflow.keras.callbacks import EarlyStopping\n",
    "from tensorflow.keras.regularizers import l2"
   ]
  },
  {
   "cell_type": "code",
   "execution_count": 16,
   "metadata": {},
   "outputs": [],
   "source": [
    "depression = pd.read_csv('../data/depression_30k.csv')\n",
    "anxiety = pd.read_csv('../data/anxiety_20k.csv')\n",
    "basetext = pd.read_csv('../data/basetext.csv')"
   ]
  },
  {
   "cell_type": "code",
   "execution_count": 17,
   "metadata": {},
   "outputs": [],
   "source": [
    "depression.drop(columns='Unnamed: 0',inplace=True)\n",
    "anxiety.drop(columns='Unnamed: 0',inplace=True)\n",
    "basetext.drop(columns='Unnamed: 0',inplace=True)"
   ]
  },
  {
   "cell_type": "code",
   "execution_count": 18,
   "metadata": {},
   "outputs": [],
   "source": [
    "dep = depression.sample(1000)\n",
    "bas = basetext.sample(1000)\n",
    "anx = anxiety.sample(1000)"
   ]
  },
  {
   "cell_type": "code",
   "execution_count": 19,
   "metadata": {},
   "outputs": [],
   "source": [
    "sample_df = pd.concat([dep,bas,anx])"
   ]
  },
  {
   "cell_type": "code",
   "execution_count": 20,
   "metadata": {},
   "outputs": [],
   "source": [
    "analyzer = SentimentIntensityAnalyzer()"
   ]
  },
  {
   "cell_type": "code",
   "execution_count": 21,
   "metadata": {},
   "outputs": [],
   "source": [
    "def sentiment(row):\n",
    "    analyzer = SentimentIntensityAnalyzer()\n",
    "    res = analyzer.polarity_scores(row)\n",
    "    return pd.Series([res['neg'], res['neu'], res['pos'], res['compound']])"
   ]
  },
  {
   "cell_type": "code",
   "execution_count": 22,
   "metadata": {},
   "outputs": [],
   "source": [
    "sample_df.replace('[removed]','',inplace=True)\n",
    "sample_df.replace('[deleted]','',inplace=True)"
   ]
  },
  {
   "cell_type": "code",
   "execution_count": 23,
   "metadata": {},
   "outputs": [],
   "source": [
    "sample_df['full_text'] = sample_df['title'] + \" \" + sample_df['selftext']"
   ]
  },
  {
   "cell_type": "code",
   "execution_count": 24,
   "metadata": {},
   "outputs": [],
   "source": [
    "sample_df['full_text'] = sample_df['full_text'].astype(str)"
   ]
  },
  {
   "cell_type": "code",
   "execution_count": 25,
   "metadata": {},
   "outputs": [],
   "source": [
    "sample_df[['neg','neu','pos','comp']] = sample_df['full_text'].apply(sentiment)"
   ]
  },
  {
   "cell_type": "code",
   "execution_count": 26,
   "metadata": {},
   "outputs": [
    {
     "data": {
      "text/html": [
       "<div>\n",
       "<style scoped>\n",
       "    .dataframe tbody tr th:only-of-type {\n",
       "        vertical-align: middle;\n",
       "    }\n",
       "\n",
       "    .dataframe tbody tr th {\n",
       "        vertical-align: top;\n",
       "    }\n",
       "\n",
       "    .dataframe thead th {\n",
       "        text-align: right;\n",
       "    }\n",
       "</style>\n",
       "<table border=\"1\" class=\"dataframe\">\n",
       "  <thead>\n",
       "    <tr style=\"text-align: right;\">\n",
       "      <th></th>\n",
       "      <th>title</th>\n",
       "      <th>author</th>\n",
       "      <th>selftext</th>\n",
       "      <th>created_utc</th>\n",
       "      <th>subreddit</th>\n",
       "      <th>full_text</th>\n",
       "      <th>neg</th>\n",
       "      <th>neu</th>\n",
       "      <th>pos</th>\n",
       "      <th>comp</th>\n",
       "    </tr>\n",
       "  </thead>\n",
       "  <tbody>\n",
       "    <tr>\n",
       "      <th>29038</th>\n",
       "      <td>Cost of counseling and is it worth it?</td>\n",
       "      <td>DJDeadPixel</td>\n",
       "      <td>Title says it all. If you've tried counseling,...</td>\n",
       "      <td>1598631983</td>\n",
       "      <td>depression</td>\n",
       "      <td>Cost of counseling and is it worth it? Title s...</td>\n",
       "      <td>0.000</td>\n",
       "      <td>0.763</td>\n",
       "      <td>0.237</td>\n",
       "      <td>0.7550</td>\n",
       "    </tr>\n",
       "    <tr>\n",
       "      <th>20840</th>\n",
       "      <td>Hey humans!</td>\n",
       "      <td>sunnshinerider</td>\n",
       "      <td>Since this is a dark place for ppl with dark s...</td>\n",
       "      <td>1599755764</td>\n",
       "      <td>depression</td>\n",
       "      <td>Hey humans! Since this is a dark place for ppl...</td>\n",
       "      <td>0.047</td>\n",
       "      <td>0.771</td>\n",
       "      <td>0.183</td>\n",
       "      <td>0.9891</td>\n",
       "    </tr>\n",
       "    <tr>\n",
       "      <th>2963</th>\n",
       "      <td>Feeling lost, jaded and a lack of motivation i...</td>\n",
       "      <td>SenobiWolf</td>\n",
       "      <td>Hi all\\~\\n\\nThis is my first post and I have b...</td>\n",
       "      <td>1602314515</td>\n",
       "      <td>depression</td>\n",
       "      <td>Feeling lost, jaded and a lack of motivation i...</td>\n",
       "      <td>0.142</td>\n",
       "      <td>0.693</td>\n",
       "      <td>0.166</td>\n",
       "      <td>0.9773</td>\n",
       "    </tr>\n",
       "    <tr>\n",
       "      <th>21539</th>\n",
       "      <td>The shitty people are the most successful and ...</td>\n",
       "      <td>iseethedanger</td>\n",
       "      <td>Is it just me, or does anyone else ever feel l...</td>\n",
       "      <td>1599651970</td>\n",
       "      <td>depression</td>\n",
       "      <td>The shitty people are the most successful and ...</td>\n",
       "      <td>0.169</td>\n",
       "      <td>0.687</td>\n",
       "      <td>0.144</td>\n",
       "      <td>-0.8930</td>\n",
       "    </tr>\n",
       "    <tr>\n",
       "      <th>3110</th>\n",
       "      <td>Identity crisis anyone?</td>\n",
       "      <td>SydVicious1991</td>\n",
       "      <td>Idk if it has anything to do with my depressio...</td>\n",
       "      <td>1602296792</td>\n",
       "      <td>depression</td>\n",
       "      <td>Identity crisis anyone? Idk if it has anything...</td>\n",
       "      <td>0.121</td>\n",
       "      <td>0.774</td>\n",
       "      <td>0.106</td>\n",
       "      <td>0.4497</td>\n",
       "    </tr>\n",
       "    <tr>\n",
       "      <th>...</th>\n",
       "      <td>...</td>\n",
       "      <td>...</td>\n",
       "      <td>...</td>\n",
       "      <td>...</td>\n",
       "      <td>...</td>\n",
       "      <td>...</td>\n",
       "      <td>...</td>\n",
       "      <td>...</td>\n",
       "      <td>...</td>\n",
       "      <td>...</td>\n",
       "    </tr>\n",
       "    <tr>\n",
       "      <th>16252</th>\n",
       "      <td>Sunday nights are the worst.</td>\n",
       "      <td>sneakyturtles7</td>\n",
       "      <td>Every Sunday night I feel anxious and depresse...</td>\n",
       "      <td>1597626626</td>\n",
       "      <td>Anxiety</td>\n",
       "      <td>Sunday nights are the worst. Every Sunday nigh...</td>\n",
       "      <td>0.309</td>\n",
       "      <td>0.691</td>\n",
       "      <td>0.000</td>\n",
       "      <td>-0.8555</td>\n",
       "    </tr>\n",
       "    <tr>\n",
       "      <th>18262</th>\n",
       "      <td>A tip for anxiety when going to the doctors</td>\n",
       "      <td>927aigroege</td>\n",
       "      <td>If you struggle with doctor's appointments, so...</td>\n",
       "      <td>1597026015</td>\n",
       "      <td>Anxiety</td>\n",
       "      <td>A tip for anxiety when going to the doctors If...</td>\n",
       "      <td>0.097</td>\n",
       "      <td>0.843</td>\n",
       "      <td>0.060</td>\n",
       "      <td>-0.6805</td>\n",
       "    </tr>\n",
       "    <tr>\n",
       "      <th>10765</th>\n",
       "      <td>Mandatory COVID Test Tomorrow announced Today</td>\n",
       "      <td>juliettesierra</td>\n",
       "      <td>I’m at college right now since I thought I’d f...</td>\n",
       "      <td>1599196727</td>\n",
       "      <td>Anxiety</td>\n",
       "      <td>Mandatory COVID Test Tomorrow announced Today ...</td>\n",
       "      <td>0.115</td>\n",
       "      <td>0.739</td>\n",
       "      <td>0.146</td>\n",
       "      <td>0.6992</td>\n",
       "    </tr>\n",
       "    <tr>\n",
       "      <th>15637</th>\n",
       "      <td>Please Read: Looking for Guidance on Job-Relat...</td>\n",
       "      <td>RealityRestored</td>\n",
       "      <td>Hello all,\\n\\nI should probably begin by provi...</td>\n",
       "      <td>1597796426</td>\n",
       "      <td>Anxiety</td>\n",
       "      <td>Please Read: Looking for Guidance on Job-Relat...</td>\n",
       "      <td>0.102</td>\n",
       "      <td>0.831</td>\n",
       "      <td>0.067</td>\n",
       "      <td>-0.8471</td>\n",
       "    </tr>\n",
       "    <tr>\n",
       "      <th>4763</th>\n",
       "      <td>Why can’t I just be normal?</td>\n",
       "      <td>Anomalistic_Username</td>\n",
       "      <td>I was doing well with the meds for 2 months. I...</td>\n",
       "      <td>1601157897</td>\n",
       "      <td>Anxiety</td>\n",
       "      <td>Why can’t I just be normal? I was doing well w...</td>\n",
       "      <td>0.146</td>\n",
       "      <td>0.813</td>\n",
       "      <td>0.041</td>\n",
       "      <td>-0.7550</td>\n",
       "    </tr>\n",
       "  </tbody>\n",
       "</table>\n",
       "<p>3000 rows × 10 columns</p>\n",
       "</div>"
      ],
      "text/plain": [
       "                                                   title  \\\n",
       "29038             Cost of counseling and is it worth it?   \n",
       "20840                                        Hey humans!   \n",
       "2963   Feeling lost, jaded and a lack of motivation i...   \n",
       "21539  The shitty people are the most successful and ...   \n",
       "3110                             Identity crisis anyone?   \n",
       "...                                                  ...   \n",
       "16252                       Sunday nights are the worst.   \n",
       "18262        A tip for anxiety when going to the doctors   \n",
       "10765      Mandatory COVID Test Tomorrow announced Today   \n",
       "15637  Please Read: Looking for Guidance on Job-Relat...   \n",
       "4763                         Why can’t I just be normal?   \n",
       "\n",
       "                     author  \\\n",
       "29038           DJDeadPixel   \n",
       "20840        sunnshinerider   \n",
       "2963             SenobiWolf   \n",
       "21539         iseethedanger   \n",
       "3110         SydVicious1991   \n",
       "...                     ...   \n",
       "16252        sneakyturtles7   \n",
       "18262           927aigroege   \n",
       "10765        juliettesierra   \n",
       "15637       RealityRestored   \n",
       "4763   Anomalistic_Username   \n",
       "\n",
       "                                                selftext  created_utc  \\\n",
       "29038  Title says it all. If you've tried counseling,...   1598631983   \n",
       "20840  Since this is a dark place for ppl with dark s...   1599755764   \n",
       "2963   Hi all\\~\\n\\nThis is my first post and I have b...   1602314515   \n",
       "21539  Is it just me, or does anyone else ever feel l...   1599651970   \n",
       "3110   Idk if it has anything to do with my depressio...   1602296792   \n",
       "...                                                  ...          ...   \n",
       "16252  Every Sunday night I feel anxious and depresse...   1597626626   \n",
       "18262  If you struggle with doctor's appointments, so...   1597026015   \n",
       "10765  I’m at college right now since I thought I’d f...   1599196727   \n",
       "15637  Hello all,\\n\\nI should probably begin by provi...   1597796426   \n",
       "4763   I was doing well with the meds for 2 months. I...   1601157897   \n",
       "\n",
       "        subreddit                                          full_text    neg  \\\n",
       "29038  depression  Cost of counseling and is it worth it? Title s...  0.000   \n",
       "20840  depression  Hey humans! Since this is a dark place for ppl...  0.047   \n",
       "2963   depression  Feeling lost, jaded and a lack of motivation i...  0.142   \n",
       "21539  depression  The shitty people are the most successful and ...  0.169   \n",
       "3110   depression  Identity crisis anyone? Idk if it has anything...  0.121   \n",
       "...           ...                                                ...    ...   \n",
       "16252     Anxiety  Sunday nights are the worst. Every Sunday nigh...  0.309   \n",
       "18262     Anxiety  A tip for anxiety when going to the doctors If...  0.097   \n",
       "10765     Anxiety  Mandatory COVID Test Tomorrow announced Today ...  0.115   \n",
       "15637     Anxiety  Please Read: Looking for Guidance on Job-Relat...  0.102   \n",
       "4763      Anxiety  Why can’t I just be normal? I was doing well w...  0.146   \n",
       "\n",
       "         neu    pos    comp  \n",
       "29038  0.763  0.237  0.7550  \n",
       "20840  0.771  0.183  0.9891  \n",
       "2963   0.693  0.166  0.9773  \n",
       "21539  0.687  0.144 -0.8930  \n",
       "3110   0.774  0.106  0.4497  \n",
       "...      ...    ...     ...  \n",
       "16252  0.691  0.000 -0.8555  \n",
       "18262  0.843  0.060 -0.6805  \n",
       "10765  0.739  0.146  0.6992  \n",
       "15637  0.831  0.067 -0.8471  \n",
       "4763   0.813  0.041 -0.7550  \n",
       "\n",
       "[3000 rows x 10 columns]"
      ]
     },
     "execution_count": 26,
     "metadata": {},
     "output_type": "execute_result"
    }
   ],
   "source": [
    "sample_df"
   ]
  },
  {
   "cell_type": "code",
   "execution_count": 27,
   "metadata": {},
   "outputs": [],
   "source": [
    "use_df = sample_df[['full_text', 'neg', 'neu', 'pos', 'comp', 'subreddit']]\n",
    "use_df.reset_index(inplace=True)"
   ]
  },
  {
   "cell_type": "code",
   "execution_count": 28,
   "metadata": {},
   "outputs": [
    {
     "data": {
      "text/plain": [
       "array(['depression', 'CasualConversation', 'happy', 'Anxiety'],\n",
       "      dtype=object)"
      ]
     },
     "execution_count": 28,
     "metadata": {},
     "output_type": "execute_result"
    }
   ],
   "source": [
    "use_df['subreddit'].unique()"
   ]
  },
  {
   "cell_type": "markdown",
   "metadata": {},
   "source": [
    "### Modeling"
   ]
  },
  {
   "cell_type": "code",
   "execution_count": 29,
   "metadata": {},
   "outputs": [],
   "source": [
    "X = use_df.drop(columns='subreddit')\n",
    "y = use_df['subreddit'].map({'CasualConversation':0, 'happy':0, 'Anxiety':1, 'depression':2})"
   ]
  },
  {
   "cell_type": "code",
   "execution_count": null,
   "metadata": {},
   "outputs": [],
   "source": [
    "X_train, X_test, y_train, y_test = train_test_split(X,y, stratify=y)"
   ]
  },
  {
   "cell_type": "code",
   "execution_count": null,
   "metadata": {},
   "outputs": [],
   "source": [
    "import numpy as np\n",
    "import spacy\n",
    "from sklearn.base import BaseEstimator, TransformerMixin\n",
    "\n",
    "class WordVectorTransformer(TransformerMixin,BaseEstimator):\n",
    "    def __init__(self, model=\"en_trf_bertbaseuncased_lg\"):    #put bert embeddings here\n",
    "        self.model = model\n",
    "    def fit(self,X,y=None):\n",
    "        return self\n",
    "    def transform(self,X):\n",
    "        nlp = spacy.load(self.model)\n",
    "        return np.concatenate([nlp(doc).vector.reshape(1,-1) for doc in X])"
   ]
  },
  {
   "cell_type": "code",
   "execution_count": null,
   "metadata": {},
   "outputs": [],
   "source": [
    "bertvect = WordVectorTransformer()"
   ]
  },
  {
   "cell_type": "code",
   "execution_count": null,
   "metadata": {},
   "outputs": [],
   "source": [
    "X_train_bvect = bertvect.fit_transform(X_train['full_text'])\n",
    "X_test_bvect = bertvect.transform(X_test['full_text'])"
   ]
  },
  {
   "cell_type": "code",
   "execution_count": 65,
   "metadata": {},
   "outputs": [],
   "source": [
    "y_train_vect = tf.keras.utils.to_categorical(y_train)\n",
    "y_test_vect = tf.keras.utils.to_categorical(y_test)"
   ]
  },
  {
   "cell_type": "code",
   "execution_count": 66,
   "metadata": {},
   "outputs": [
    {
     "data": {
      "text/plain": [
       "(2250, 768)"
      ]
     },
     "execution_count": 66,
     "metadata": {},
     "output_type": "execute_result"
    }
   ],
   "source": [
    "X_train_bvect.shape"
   ]
  },
  {
   "cell_type": "code",
   "execution_count": 67,
   "metadata": {},
   "outputs": [
    {
     "data": {
      "text/plain": [
       "(2250, 768)"
      ]
     },
     "execution_count": 67,
     "metadata": {},
     "output_type": "execute_result"
    }
   ],
   "source": [
    "X_train_bvect.shape"
   ]
  },
  {
   "cell_type": "code",
   "execution_count": 77,
   "metadata": {},
   "outputs": [
    {
     "data": {
      "text/plain": [
       "numpy.ndarray"
      ]
     },
     "execution_count": 77,
     "metadata": {},
     "output_type": "execute_result"
    }
   ],
   "source": [
    "type(X_train_bvect)"
   ]
  },
  {
   "cell_type": "code",
   "execution_count": 84,
   "metadata": {},
   "outputs": [
    {
     "data": {
      "text/plain": [
       "(2250, 768)"
      ]
     },
     "execution_count": 84,
     "metadata": {},
     "output_type": "execute_result"
    }
   ],
   "source": [
    "X_train_bvect.shape"
   ]
  },
  {
   "cell_type": "code",
   "execution_count": 112,
   "metadata": {},
   "outputs": [],
   "source": [
    "train_neg = X_train['neg'].to_numpy().reshape(-1,1)\n",
    "train_pos = X_train['pos'].to_numpy().reshape(-1,1)\n",
    "train_comp = X_train['comp'].to_numpy().reshape(-1,1)"
   ]
  },
  {
   "cell_type": "code",
   "execution_count": null,
   "metadata": {},
   "outputs": [],
   "source": []
  },
  {
   "cell_type": "code",
   "execution_count": 113,
   "metadata": {},
   "outputs": [],
   "source": [
    "test_neg = X_test['neg'].to_numpy().reshape(-1,1)\n",
    "test_pos = X_test['pos'].to_numpy().reshape(-1,1)\n",
    "test_comp = X_test['comp'].to_numpy().reshape(-1,1)"
   ]
  },
  {
   "cell_type": "code",
   "execution_count": 126,
   "metadata": {},
   "outputs": [
    {
     "data": {
      "text/plain": [
       "(2250, 771)"
      ]
     },
     "execution_count": 126,
     "metadata": {},
     "output_type": "execute_result"
    }
   ],
   "source": [
    "X_train_new = np.concatenate((X_train_bvect, train_neg, train_pos, train_comp),axis=1)\n",
    "X_train_new.shape"
   ]
  },
  {
   "cell_type": "code",
   "execution_count": 127,
   "metadata": {},
   "outputs": [
    {
     "data": {
      "text/plain": [
       "(750, 771)"
      ]
     },
     "execution_count": 127,
     "metadata": {},
     "output_type": "execute_result"
    }
   ],
   "source": [
    "X_test_new = np.concatenate((X_test_bvect, test_neg, test_pos, test_comp),axis=1)\n",
    "X_test_new.shape"
   ]
  },
  {
   "cell_type": "code",
   "execution_count": 206,
   "metadata": {},
   "outputs": [],
   "source": [
    "model_k = Sequential()\n",
    "model_k.add(Flatten())\n",
    "model_k.add(Dense(64,activation='relu',kernel_regularizer=l2(0.001)))\n",
    "model_k.add(Dropout(0.5))\n",
    "model_k.add(Dense(64,activation='relu',kernel_regularizer=l2(0.001)))\n",
    "model_k.add(Dropout(0.5))\n",
    "model_k.add(Dense(64,activation='relu',kernel_regularizer=l2(0.001)))\n",
    "model_k.add(Dropout(0.5))\n",
    "model_k.add(Dense(128,activation='relu',kernel_regularizer=l2(0.01)))\n",
    "model_k.add(Dropout(0.4))\n",
    "\n",
    "\n",
    "model_k.add(Dense(3, activation='softmax'))"
   ]
  },
  {
   "cell_type": "code",
   "execution_count": 207,
   "metadata": {},
   "outputs": [],
   "source": [
    "model_k.compile(\n",
    "    loss = 'categorical_crossentropy',\n",
    "    optimizer='adam',\n",
    "    metrics=['accuracy']\n",
    ")"
   ]
  },
  {
   "cell_type": "code",
   "execution_count": 208,
   "metadata": {},
   "outputs": [],
   "source": [
    "history_k = model_k.fit(X_train_new,y_train_vect,validation_data = (X_test_new,y_test_vect),epochs=300,verbose=0)"
   ]
  },
  {
   "cell_type": "code",
   "execution_count": 210,
   "metadata": {},
   "outputs": [
    {
     "data": {
      "text/plain": [
       "<matplotlib.legend.Legend at 0x2840b24d2b0>"
      ]
     },
     "execution_count": 210,
     "metadata": {},
     "output_type": "execute_result"
    },
    {
     "data": {
      "image/png": "[encoded data removed]",
      "text/plain": [
       "<Figure size 864x648 with 1 Axes>"
      ]
     },
     "metadata": {},
     "output_type": "display_data"
    }
   ],
   "source": [
    "plt.style.use('ggplot')\n",
    "plt.figure(figsize=(12,9))\n",
    "plt.plot(history_k.history['accuracy'],label='Train')\n",
    "plt.plot(history_k.history['val_accuracy'],label='Test')\n",
    "plt.legend()"
   ]
  },
  {
   "cell_type": "code",
   "execution_count": null,
   "metadata": {},
   "outputs": [],
   "source": []
  },
  {
   "cell_type": "code",
   "execution_count": null,
   "metadata": {},
   "outputs": [],
   "source": [
    "model_k = Sequential()\n",
    "model_k.add(Flatten())\n",
    "model_k.add(LSTM())\n",
    "model_k.add(Dense(64,activation='relu',kernel_regularizer=l2(0.001)))\n",
    "model_k.add(Dropout(0.5))\n",
    "model_k.add(Dense(64,activation='relu',kernel_regularizer=l2(0.001)))\n",
    "model_k.add(Dropout(0.5))\n",
    "model_k.add(Dense(64,activation='relu',kernel_regularizer=l2(0.001)))\n",
    "model_k.add(Dropout(0.5))\n",
    "model_k.add(Dense(128,activation='relu',kernel_regularizer=l2(0.01)))\n",
    "model_k.add(Dropout(0.4))"
   ]
  },
  {
   "cell_type": "code",
   "execution_count": 2,
   "metadata": {},
   "outputs": [],
   "source": [
    "from tensorflow.keras.preprocessing.text import Tokenizer\n",
    "from tensorflow.keras.preprocessing.sequence import pad_sequences"
   ]
  },
  {
   "cell_type": "code",
   "execution_count": 31,
   "metadata": {},
   "outputs": [
    {
     "data": {
      "text/plain": [
       "(3000, 7)"
      ]
     },
     "execution_count": 31,
     "metadata": {},
     "output_type": "execute_result"
    }
   ],
   "source": [
    "use_df.shape"
   ]
  },
  {
   "cell_type": "code",
   "execution_count": 32,
   "metadata": {},
   "outputs": [
    {
     "data": {
      "text/html": [
       "<div>\n",
       "<style scoped>\n",
       "    .dataframe tbody tr th:only-of-type {\n",
       "        vertical-align: middle;\n",
       "    }\n",
       "\n",
       "    .dataframe tbody tr th {\n",
       "        vertical-align: top;\n",
       "    }\n",
       "\n",
       "    .dataframe thead th {\n",
       "        text-align: right;\n",
       "    }\n",
       "</style>\n",
       "<table border=\"1\" class=\"dataframe\">\n",
       "  <thead>\n",
       "    <tr style=\"text-align: right;\">\n",
       "      <th></th>\n",
       "      <th>index</th>\n",
       "      <th>full_text</th>\n",
       "      <th>neg</th>\n",
       "      <th>neu</th>\n",
       "      <th>pos</th>\n",
       "      <th>comp</th>\n",
       "      <th>subreddit</th>\n",
       "    </tr>\n",
       "  </thead>\n",
       "  <tbody>\n",
       "    <tr>\n",
       "      <th>0</th>\n",
       "      <td>29038</td>\n",
       "      <td>Cost of counseling and is it worth it? Title s...</td>\n",
       "      <td>0.000</td>\n",
       "      <td>0.763</td>\n",
       "      <td>0.237</td>\n",
       "      <td>0.7550</td>\n",
       "      <td>depression</td>\n",
       "    </tr>\n",
       "    <tr>\n",
       "      <th>1</th>\n",
       "      <td>20840</td>\n",
       "      <td>Hey humans! Since this is a dark place for ppl...</td>\n",
       "      <td>0.047</td>\n",
       "      <td>0.771</td>\n",
       "      <td>0.183</td>\n",
       "      <td>0.9891</td>\n",
       "      <td>depression</td>\n",
       "    </tr>\n",
       "    <tr>\n",
       "      <th>2</th>\n",
       "      <td>2963</td>\n",
       "      <td>Feeling lost, jaded and a lack of motivation i...</td>\n",
       "      <td>0.142</td>\n",
       "      <td>0.693</td>\n",
       "      <td>0.166</td>\n",
       "      <td>0.9773</td>\n",
       "      <td>depression</td>\n",
       "    </tr>\n",
       "    <tr>\n",
       "      <th>3</th>\n",
       "      <td>21539</td>\n",
       "      <td>The shitty people are the most successful and ...</td>\n",
       "      <td>0.169</td>\n",
       "      <td>0.687</td>\n",
       "      <td>0.144</td>\n",
       "      <td>-0.8930</td>\n",
       "      <td>depression</td>\n",
       "    </tr>\n",
       "    <tr>\n",
       "      <th>4</th>\n",
       "      <td>3110</td>\n",
       "      <td>Identity crisis anyone? Idk if it has anything...</td>\n",
       "      <td>0.121</td>\n",
       "      <td>0.774</td>\n",
       "      <td>0.106</td>\n",
       "      <td>0.4497</td>\n",
       "      <td>depression</td>\n",
       "    </tr>\n",
       "  </tbody>\n",
       "</table>\n",
       "</div>"
      ],
      "text/plain": [
       "   index                                          full_text    neg    neu  \\\n",
       "0  29038  Cost of counseling and is it worth it? Title s...  0.000  0.763   \n",
       "1  20840  Hey humans! Since this is a dark place for ppl...  0.047  0.771   \n",
       "2   2963  Feeling lost, jaded and a lack of motivation i...  0.142  0.693   \n",
       "3  21539  The shitty people are the most successful and ...  0.169  0.687   \n",
       "4   3110  Identity crisis anyone? Idk if it has anything...  0.121  0.774   \n",
       "\n",
       "     pos    comp   subreddit  \n",
       "0  0.237  0.7550  depression  \n",
       "1  0.183  0.9891  depression  \n",
       "2  0.166  0.9773  depression  \n",
       "3  0.144 -0.8930  depression  \n",
       "4  0.106  0.4497  depression  "
      ]
     },
     "execution_count": 32,
     "metadata": {},
     "output_type": "execute_result"
    }
   ],
   "source": [
    "use_df.head()"
   ]
  },
  {
   "cell_type": "code",
   "execution_count": null,
   "metadata": {},
   "outputs": [],
   "source": []
  },
  {
   "cell_type": "code",
   "execution_count": 33,
   "metadata": {},
   "outputs": [],
   "source": [
    "#parameters for tokenization\n",
    "max_len = 100\n",
    "training_samples = 2500\n",
    "validation_samples = 500\n",
    "max_words = 10_000"
   ]
  },
  {
   "cell_type": "code",
   "execution_count": 34,
   "metadata": {},
   "outputs": [],
   "source": [
    "#instantiate the tokenizer\n",
    "tokenizer = Tokenizer(num_words=max_words)"
   ]
  },
  {
   "cell_type": "code",
   "execution_count": 35,
   "metadata": {},
   "outputs": [],
   "source": [
    "#fit the tokenizer\n",
    "tokenizer.fit_on_texts(use_df['full_text'])"
   ]
  },
  {
   "cell_type": "code",
   "execution_count": 36,
   "metadata": {},
   "outputs": [],
   "source": [
    "#create the sequences\n",
    "sequences = tokenizer.texts_to_sequences(use_df['full_text'])"
   ]
  },
  {
   "cell_type": "code",
   "execution_count": 37,
   "metadata": {},
   "outputs": [],
   "source": [
    "#pad sequences\n",
    "data = pad_sequences(sequences, maxlen=max_len)"
   ]
  },
  {
   "cell_type": "code",
   "execution_count": 46,
   "metadata": {},
   "outputs": [],
   "source": [
    "#create train/test sets\n",
    "X_train = data[:training_samples]\n",
    "X_test = data[training_samples:training_samples + validation_samples]\n",
    "\n",
    "y_train = y[:training_samples].map({'happy':0,'CasualConversation':0, 'depression':1})\n",
    "y_test = y[training_samples: training_samples + validation_samples].map({'happy':0,'CasualConversation':0, 'depression':1})"
   ]
  },
  {
   "cell_type": "code",
   "execution_count": 51,
   "metadata": {},
   "outputs": [],
   "source": [
    "X_train_reshape = X_train.reshape(-1,1)\n",
    "X_test_reshape = X_test.reshape(-1,1)"
   ]
  },
  {
   "cell_type": "code",
   "execution_count": 43,
   "metadata": {},
   "outputs": [
    {
     "data": {
      "text/plain": [
       "array([   0,    0,    0,    0,    0,    0,    0,    0,    0,    0,    0,\n",
       "          0,    0,    0,    0,    0,    0,    0,    0,    0,    0,    0,\n",
       "          0,    0,    0,    0,    0,    0,    0,    0,    0,    0,    0,\n",
       "          0,    0,    0,    0,    0,    0,    0,    0,    0,    0,    0,\n",
       "          0,    0,    0,    0,    0,    0,    0,    0,    0,    0,    0,\n",
       "          0,    0,    0,    0,    0,    0,    0,    0,    0,    0,    0,\n",
       "          0,    0,    0,    0,    0,    0,    0, 2046,    7, 2154,    3,\n",
       "         15,    8,  727,    8, 1315,  515,    8,   36,   38, 1858,  239,\n",
       "       2154,   19,    8,  727,    8,  156,    8,   85, 4600,  124, 4601,\n",
       "         27])"
      ]
     },
     "execution_count": 43,
     "metadata": {},
     "output_type": "execute_result"
    }
   ],
   "source": [
    "sequences[:1]\n",
    "data[0]"
   ]
  },
  {
   "cell_type": "code",
   "execution_count": 47,
   "metadata": {},
   "outputs": [],
   "source": [
    "model = Sequential()\n",
    "model.add(LSTM(32))\n",
    "model.add(Dense(64, activation='relu'))\n",
    "model.add(Dense(1, activation='sigmoid'))"
   ]
  },
  {
   "cell_type": "code",
   "execution_count": 49,
   "metadata": {},
   "outputs": [],
   "source": [
    "model.compile(optimizer='adam', metrics=['accuracy', 'recall'], loss='binary_crossentropy')"
   ]
  },
  {
   "cell_type": "code",
   "execution_count": 52,
   "metadata": {
    "collapsed": true,
    "jupyter": {
     "outputs_hidden": true
    }
   },
   "outputs": [
    {
     "ename": "ValueError",
     "evalue": "Data cardinality is ambiguous:\n  x sizes: 250000\n  y sizes: 2500\nPlease provide data which shares the same first dimension.",
     "output_type": "error",
     "traceback": [
      "\u001b[1;31m---------------------------------------------------------------------------\u001b[0m",
      "\u001b[1;31mValueError\u001b[0m                                Traceback (most recent call last)",
      "\u001b[1;32m<ipython-input-52-d3b18625345c>\u001b[0m in \u001b[0;36m<module>\u001b[1;34m\u001b[0m\n\u001b[1;32m----> 1\u001b[1;33m \u001b[0mhistory\u001b[0m \u001b[1;33m=\u001b[0m \u001b[0mmodel\u001b[0m\u001b[1;33m.\u001b[0m\u001b[0mfit\u001b[0m\u001b[1;33m(\u001b[0m\u001b[0mX_train_reshape\u001b[0m\u001b[1;33m,\u001b[0m \u001b[0my_train\u001b[0m\u001b[1;33m,\u001b[0m \u001b[0mvalidation_data\u001b[0m\u001b[1;33m=\u001b[0m\u001b[1;33m(\u001b[0m\u001b[0mX_test_reshape\u001b[0m\u001b[1;33m,\u001b[0m\u001b[0my_test\u001b[0m\u001b[1;33m)\u001b[0m\u001b[1;33m,\u001b[0m \u001b[0mepochs\u001b[0m\u001b[1;33m=\u001b[0m\u001b[1;36m1\u001b[0m\u001b[1;33m)\u001b[0m\u001b[1;33m\u001b[0m\u001b[1;33m\u001b[0m\u001b[0m\n\u001b[0m",
      "\u001b[1;32m~\\anaconda3\\lib\\site-packages\\tensorflow\\python\\keras\\engine\\training.py\u001b[0m in \u001b[0;36m_method_wrapper\u001b[1;34m(self, *args, **kwargs)\u001b[0m\n\u001b[0;32m    106\u001b[0m   \u001b[1;32mdef\u001b[0m \u001b[0m_method_wrapper\u001b[0m\u001b[1;33m(\u001b[0m\u001b[0mself\u001b[0m\u001b[1;33m,\u001b[0m \u001b[1;33m*\u001b[0m\u001b[0margs\u001b[0m\u001b[1;33m,\u001b[0m \u001b[1;33m**\u001b[0m\u001b[0mkwargs\u001b[0m\u001b[1;33m)\u001b[0m\u001b[1;33m:\u001b[0m\u001b[1;33m\u001b[0m\u001b[1;33m\u001b[0m\u001b[0m\n\u001b[0;32m    107\u001b[0m     \u001b[1;32mif\u001b[0m \u001b[1;32mnot\u001b[0m \u001b[0mself\u001b[0m\u001b[1;33m.\u001b[0m\u001b[0m_in_multi_worker_mode\u001b[0m\u001b[1;33m(\u001b[0m\u001b[1;33m)\u001b[0m\u001b[1;33m:\u001b[0m  \u001b[1;31m# pylint: disable=protected-access\u001b[0m\u001b[1;33m\u001b[0m\u001b[1;33m\u001b[0m\u001b[0m\n\u001b[1;32m--> 108\u001b[1;33m       \u001b[1;32mreturn\u001b[0m \u001b[0mmethod\u001b[0m\u001b[1;33m(\u001b[0m\u001b[0mself\u001b[0m\u001b[1;33m,\u001b[0m \u001b[1;33m*\u001b[0m\u001b[0margs\u001b[0m\u001b[1;33m,\u001b[0m \u001b[1;33m**\u001b[0m\u001b[0mkwargs\u001b[0m\u001b[1;33m)\u001b[0m\u001b[1;33m\u001b[0m\u001b[1;33m\u001b[0m\u001b[0m\n\u001b[0m\u001b[0;32m    109\u001b[0m \u001b[1;33m\u001b[0m\u001b[0m\n\u001b[0;32m    110\u001b[0m     \u001b[1;31m# Running inside `run_distribute_coordinator` already.\u001b[0m\u001b[1;33m\u001b[0m\u001b[1;33m\u001b[0m\u001b[1;33m\u001b[0m\u001b[0m\n",
      "\u001b[1;32m~\\anaconda3\\lib\\site-packages\\tensorflow\\python\\keras\\engine\\training.py\u001b[0m in \u001b[0;36mfit\u001b[1;34m(self, x, y, batch_size, epochs, verbose, callbacks, validation_split, validation_data, shuffle, class_weight, sample_weight, initial_epoch, steps_per_epoch, validation_steps, validation_batch_size, validation_freq, max_queue_size, workers, use_multiprocessing)\u001b[0m\n\u001b[0;32m   1047\u001b[0m          \u001b[0mtraining_utils\u001b[0m\u001b[1;33m.\u001b[0m\u001b[0mRespectCompiledTrainableState\u001b[0m\u001b[1;33m(\u001b[0m\u001b[0mself\u001b[0m\u001b[1;33m)\u001b[0m\u001b[1;33m:\u001b[0m\u001b[1;33m\u001b[0m\u001b[1;33m\u001b[0m\u001b[0m\n\u001b[0;32m   1048\u001b[0m       \u001b[1;31m# Creates a `tf.data.Dataset` and handles batch and epoch iteration.\u001b[0m\u001b[1;33m\u001b[0m\u001b[1;33m\u001b[0m\u001b[1;33m\u001b[0m\u001b[0m\n\u001b[1;32m-> 1049\u001b[1;33m       data_handler = data_adapter.DataHandler(\n\u001b[0m\u001b[0;32m   1050\u001b[0m           \u001b[0mx\u001b[0m\u001b[1;33m=\u001b[0m\u001b[0mx\u001b[0m\u001b[1;33m,\u001b[0m\u001b[1;33m\u001b[0m\u001b[1;33m\u001b[0m\u001b[0m\n\u001b[0;32m   1051\u001b[0m           \u001b[0my\u001b[0m\u001b[1;33m=\u001b[0m\u001b[0my\u001b[0m\u001b[1;33m,\u001b[0m\u001b[1;33m\u001b[0m\u001b[1;33m\u001b[0m\u001b[0m\n",
      "\u001b[1;32m~\\anaconda3\\lib\\site-packages\\tensorflow\\python\\keras\\engine\\data_adapter.py\u001b[0m in \u001b[0;36m__init__\u001b[1;34m(self, x, y, sample_weight, batch_size, steps_per_epoch, initial_epoch, epochs, shuffle, class_weight, max_queue_size, workers, use_multiprocessing, model, steps_per_execution)\u001b[0m\n\u001b[0;32m   1103\u001b[0m \u001b[1;33m\u001b[0m\u001b[0m\n\u001b[0;32m   1104\u001b[0m     \u001b[0madapter_cls\u001b[0m \u001b[1;33m=\u001b[0m \u001b[0mselect_data_adapter\u001b[0m\u001b[1;33m(\u001b[0m\u001b[0mx\u001b[0m\u001b[1;33m,\u001b[0m \u001b[0my\u001b[0m\u001b[1;33m)\u001b[0m\u001b[1;33m\u001b[0m\u001b[1;33m\u001b[0m\u001b[0m\n\u001b[1;32m-> 1105\u001b[1;33m     self._adapter = adapter_cls(\n\u001b[0m\u001b[0;32m   1106\u001b[0m         \u001b[0mx\u001b[0m\u001b[1;33m,\u001b[0m\u001b[1;33m\u001b[0m\u001b[1;33m\u001b[0m\u001b[0m\n\u001b[0;32m   1107\u001b[0m         \u001b[0my\u001b[0m\u001b[1;33m,\u001b[0m\u001b[1;33m\u001b[0m\u001b[1;33m\u001b[0m\u001b[0m\n",
      "\u001b[1;32m~\\anaconda3\\lib\\site-packages\\tensorflow\\python\\keras\\engine\\data_adapter.py\u001b[0m in \u001b[0;36m__init__\u001b[1;34m(self, x, y, sample_weights, sample_weight_modes, batch_size, epochs, steps, shuffle, **kwargs)\u001b[0m\n\u001b[0;32m    280\u001b[0m             label, \", \".join(str(i.shape[0]) for i in nest.flatten(data)))\n\u001b[0;32m    281\u001b[0m       \u001b[0mmsg\u001b[0m \u001b[1;33m+=\u001b[0m \u001b[1;34m\"Please provide data which shares the same first dimension.\"\u001b[0m\u001b[1;33m\u001b[0m\u001b[1;33m\u001b[0m\u001b[0m\n\u001b[1;32m--> 282\u001b[1;33m       \u001b[1;32mraise\u001b[0m \u001b[0mValueError\u001b[0m\u001b[1;33m(\u001b[0m\u001b[0mmsg\u001b[0m\u001b[1;33m)\u001b[0m\u001b[1;33m\u001b[0m\u001b[1;33m\u001b[0m\u001b[0m\n\u001b[0m\u001b[0;32m    283\u001b[0m     \u001b[0mnum_samples\u001b[0m \u001b[1;33m=\u001b[0m \u001b[0mnum_samples\u001b[0m\u001b[1;33m.\u001b[0m\u001b[0mpop\u001b[0m\u001b[1;33m(\u001b[0m\u001b[1;33m)\u001b[0m\u001b[1;33m\u001b[0m\u001b[1;33m\u001b[0m\u001b[0m\n\u001b[0;32m    284\u001b[0m \u001b[1;33m\u001b[0m\u001b[0m\n",
      "\u001b[1;31mValueError\u001b[0m: Data cardinality is ambiguous:\n  x sizes: 250000\n  y sizes: 2500\nPlease provide data which shares the same first dimension."
     ]
    }
   ],
   "source": [
    "history = model.fit(X_train_reshape, y_train, validation_data=(X_test_reshape,y_test), epochs=1)"
   ]
  },
  {
   "cell_type": "code",
   "execution_count": 54,
   "metadata": {},
   "outputs": [
    {
     "data": {
      "text/html": [
       "<div>\n",
       "<style scoped>\n",
       "    .dataframe tbody tr th:only-of-type {\n",
       "        vertical-align: middle;\n",
       "    }\n",
       "\n",
       "    .dataframe tbody tr th {\n",
       "        vertical-align: top;\n",
       "    }\n",
       "\n",
       "    .dataframe thead th {\n",
       "        text-align: right;\n",
       "    }\n",
       "</style>\n",
       "<table border=\"1\" class=\"dataframe\">\n",
       "  <thead>\n",
       "    <tr style=\"text-align: right;\">\n",
       "      <th></th>\n",
       "      <th>index</th>\n",
       "      <th>full_text</th>\n",
       "      <th>neg</th>\n",
       "      <th>neu</th>\n",
       "      <th>pos</th>\n",
       "      <th>comp</th>\n",
       "      <th>subreddit</th>\n",
       "    </tr>\n",
       "  </thead>\n",
       "  <tbody>\n",
       "    <tr>\n",
       "      <th>0</th>\n",
       "      <td>29038</td>\n",
       "      <td>Cost of counseling and is it worth it? Title s...</td>\n",
       "      <td>0.000</td>\n",
       "      <td>0.763</td>\n",
       "      <td>0.237</td>\n",
       "      <td>0.7550</td>\n",
       "      <td>depression</td>\n",
       "    </tr>\n",
       "    <tr>\n",
       "      <th>1</th>\n",
       "      <td>20840</td>\n",
       "      <td>Hey humans! Since this is a dark place for ppl...</td>\n",
       "      <td>0.047</td>\n",
       "      <td>0.771</td>\n",
       "      <td>0.183</td>\n",
       "      <td>0.9891</td>\n",
       "      <td>depression</td>\n",
       "    </tr>\n",
       "    <tr>\n",
       "      <th>2</th>\n",
       "      <td>2963</td>\n",
       "      <td>Feeling lost, jaded and a lack of motivation i...</td>\n",
       "      <td>0.142</td>\n",
       "      <td>0.693</td>\n",
       "      <td>0.166</td>\n",
       "      <td>0.9773</td>\n",
       "      <td>depression</td>\n",
       "    </tr>\n",
       "    <tr>\n",
       "      <th>3</th>\n",
       "      <td>21539</td>\n",
       "      <td>The shitty people are the most successful and ...</td>\n",
       "      <td>0.169</td>\n",
       "      <td>0.687</td>\n",
       "      <td>0.144</td>\n",
       "      <td>-0.8930</td>\n",
       "      <td>depression</td>\n",
       "    </tr>\n",
       "    <tr>\n",
       "      <th>4</th>\n",
       "      <td>3110</td>\n",
       "      <td>Identity crisis anyone? Idk if it has anything...</td>\n",
       "      <td>0.121</td>\n",
       "      <td>0.774</td>\n",
       "      <td>0.106</td>\n",
       "      <td>0.4497</td>\n",
       "      <td>depression</td>\n",
       "    </tr>\n",
       "    <tr>\n",
       "      <th>...</th>\n",
       "      <td>...</td>\n",
       "      <td>...</td>\n",
       "      <td>...</td>\n",
       "      <td>...</td>\n",
       "      <td>...</td>\n",
       "      <td>...</td>\n",
       "      <td>...</td>\n",
       "    </tr>\n",
       "    <tr>\n",
       "      <th>2995</th>\n",
       "      <td>16252</td>\n",
       "      <td>Sunday nights are the worst. Every Sunday nigh...</td>\n",
       "      <td>0.309</td>\n",
       "      <td>0.691</td>\n",
       "      <td>0.000</td>\n",
       "      <td>-0.8555</td>\n",
       "      <td>Anxiety</td>\n",
       "    </tr>\n",
       "    <tr>\n",
       "      <th>2996</th>\n",
       "      <td>18262</td>\n",
       "      <td>A tip for anxiety when going to the doctors If...</td>\n",
       "      <td>0.097</td>\n",
       "      <td>0.843</td>\n",
       "      <td>0.060</td>\n",
       "      <td>-0.6805</td>\n",
       "      <td>Anxiety</td>\n",
       "    </tr>\n",
       "    <tr>\n",
       "      <th>2997</th>\n",
       "      <td>10765</td>\n",
       "      <td>Mandatory COVID Test Tomorrow announced Today ...</td>\n",
       "      <td>0.115</td>\n",
       "      <td>0.739</td>\n",
       "      <td>0.146</td>\n",
       "      <td>0.6992</td>\n",
       "      <td>Anxiety</td>\n",
       "    </tr>\n",
       "    <tr>\n",
       "      <th>2998</th>\n",
       "      <td>15637</td>\n",
       "      <td>Please Read: Looking for Guidance on Job-Relat...</td>\n",
       "      <td>0.102</td>\n",
       "      <td>0.831</td>\n",
       "      <td>0.067</td>\n",
       "      <td>-0.8471</td>\n",
       "      <td>Anxiety</td>\n",
       "    </tr>\n",
       "    <tr>\n",
       "      <th>2999</th>\n",
       "      <td>4763</td>\n",
       "      <td>Why can’t I just be normal? I was doing well w...</td>\n",
       "      <td>0.146</td>\n",
       "      <td>0.813</td>\n",
       "      <td>0.041</td>\n",
       "      <td>-0.7550</td>\n",
       "      <td>Anxiety</td>\n",
       "    </tr>\n",
       "  </tbody>\n",
       "</table>\n",
       "<p>3000 rows × 7 columns</p>\n",
       "</div>"
      ],
      "text/plain": [
       "      index                                          full_text    neg    neu  \\\n",
       "0     29038  Cost of counseling and is it worth it? Title s...  0.000  0.763   \n",
       "1     20840  Hey humans! Since this is a dark place for ppl...  0.047  0.771   \n",
       "2      2963  Feeling lost, jaded and a lack of motivation i...  0.142  0.693   \n",
       "3     21539  The shitty people are the most successful and ...  0.169  0.687   \n",
       "4      3110  Identity crisis anyone? Idk if it has anything...  0.121  0.774   \n",
       "...     ...                                                ...    ...    ...   \n",
       "2995  16252  Sunday nights are the worst. Every Sunday nigh...  0.309  0.691   \n",
       "2996  18262  A tip for anxiety when going to the doctors If...  0.097  0.843   \n",
       "2997  10765  Mandatory COVID Test Tomorrow announced Today ...  0.115  0.739   \n",
       "2998  15637  Please Read: Looking for Guidance on Job-Relat...  0.102  0.831   \n",
       "2999   4763  Why can’t I just be normal? I was doing well w...  0.146  0.813   \n",
       "\n",
       "        pos    comp   subreddit  \n",
       "0     0.237  0.7550  depression  \n",
       "1     0.183  0.9891  depression  \n",
       "2     0.166  0.9773  depression  \n",
       "3     0.144 -0.8930  depression  \n",
       "4     0.106  0.4497  depression  \n",
       "...     ...     ...         ...  \n",
       "2995  0.000 -0.8555     Anxiety  \n",
       "2996  0.060 -0.6805     Anxiety  \n",
       "2997  0.146  0.6992     Anxiety  \n",
       "2998  0.067 -0.8471     Anxiety  \n",
       "2999  0.041 -0.7550     Anxiety  \n",
       "\n",
       "[3000 rows x 7 columns]"
      ]
     },
     "execution_count": 54,
     "metadata": {},
     "output_type": "execute_result"
    }
   ],
   "source": [
    "use_df"
   ]
  },
  {
   "cell_type": "code",
   "execution_count": null,
   "metadata": {},
   "outputs": [],
   "source": []
  }
 ],
 "metadata": {
  "kernelspec": {
   "display_name": "Python 3",
   "language": "python",
   "name": "python3"
  },
  "language_info": {
   "codemirror_mode": {
    "name": "ipython",
    "version": 3
   },
   "file_extension": ".py",
   "mimetype": "text/x-python",
   "name": "python",
   "nbconvert_exporter": "python",
   "pygments_lexer": "ipython3",
   "version": "3.8.5"
  }
 },
 "nbformat": 4,
 "nbformat_minor": 4
}
